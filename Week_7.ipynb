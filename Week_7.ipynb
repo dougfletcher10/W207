{
  "nbformat": 4,
  "nbformat_minor": 0,
  "metadata": {
    "colab": {
      "name": "Week 7",
      "provenance": [],
      "include_colab_link": true
    },
    "kernelspec": {
      "name": "python3",
      "display_name": "Python 3"
    }
  },
  "cells": [
    {
      "cell_type": "markdown",
      "metadata": {
        "id": "view-in-github",
        "colab_type": "text"
      },
      "source": [
        "<a href=\"https://colab.research.google.com/github/dougfletcher10/W207/blob/master/Week_7.ipynb\" target=\"_parent\"><img src=\"https://colab.research.google.com/assets/colab-badge.svg\" alt=\"Open In Colab\"/></a>"
      ]
    },
    {
      "cell_type": "markdown",
      "metadata": {
        "id": "8lcPJK8-wUzm",
        "colab_type": "text"
      },
      "source": [
        "## Neural Nets -- from scratch\n",
        "Neural net with back propagation for XOR using one hidden layer\n",
        "Taken from http://www.bogotobogo.com/python/python_Neural_Networks_Backpropagation_for_XOR_using_one_hidden_layer.php"
      ]
    },
    {
      "cell_type": "code",
      "metadata": {
        "id": "J1jBmEScwZ1O",
        "colab_type": "code",
        "colab": {
          "base_uri": "https://localhost:8080/",
          "height": 187
        },
        "outputId": "3554064f-501a-462a-8843-5cc05b40b3c2"
      },
      "source": [
        "import numpy as np\n",
        "\n",
        "def sigmoid(x):\n",
        "    return 1.0/(1.0 + np.exp(-x))\n",
        "\n",
        "def sigmoid_prime(x):\n",
        "    return sigmoid(x)*(1.0-sigmoid(x))\n",
        "\n",
        "def tanh(x):\n",
        "    return np.tanh(x)\n",
        "\n",
        "def tanh_prime(x):\n",
        "    return 1.0 - x**2\n",
        "\n",
        "\n",
        "class NeuralNetwork:\n",
        "\n",
        "    def __init__(self, layers, activation='tanh'):\n",
        "        if activation == 'sigmoid':\n",
        "            self.activation = sigmoid\n",
        "            self.activation_prime = sigmoid_prime\n",
        "        elif activation == 'tanh':\n",
        "            self.activation = tanh\n",
        "            self.activation_prime = tanh_prime\n",
        "\n",
        "        # Set weights\n",
        "        self.weights = []\n",
        "        # layers = [2,2,1]\n",
        "        # range of weight values (-1,1)\n",
        "        # input and hidden layers - random((2+1, 2+1)) : 3 x 3\n",
        "        for i in range(1, len(layers) - 1):\n",
        "            r = 2*np.random.random((layers[i-1] + 1, layers[i] + 1)) -1\n",
        "            self.weights.append(r)\n",
        "        # output layer - random((2+1, 1)) : 3 x 1\n",
        "        r = 2*np.random.random( (layers[i] + 1, layers[i+1])) - 1\n",
        "        self.weights.append(r)\n",
        "\n",
        "    def fit(self, X, y, learning_rate=0.2, epochs=100000):\n",
        "        # Add column of ones to X\n",
        "        # This is to add the bias unit to the input layer\n",
        "        ones = np.atleast_2d(np.ones(X.shape[0]))\n",
        "        X = np.concatenate((ones.T, X), axis=1)\n",
        "         \n",
        "        for k in range(epochs):\n",
        "            if k % 10000 == 0: print ('epochs:', k)\n",
        "            \n",
        "            i = np.random.randint(X.shape[0])\n",
        "            a = [X[i]]\n",
        "\n",
        "            for l in range(len(self.weights)):\n",
        "                    dot_value = np.dot(a[l], self.weights[l])\n",
        "                    activation = self.activation(dot_value)\n",
        "                    a.append(activation)\n",
        "            # output layer\n",
        "            error = y[i] - a[-1]\n",
        "            deltas = [error * self.activation_prime(a[-1])]\n",
        "\n",
        "            # we need to begin at the second to last layer \n",
        "            # (a layer before the output layer)\n",
        "            for l in range(len(a) - 2, 0, -1): \n",
        "                deltas.append(deltas[-1].dot(self.weights[l].T)*self.activation_prime(a[l]))\n",
        "\n",
        "            # reverse\n",
        "            # [level3(output)->level2(hidden)]  => [level2(hidden)->level3(output)]\n",
        "            deltas.reverse()\n",
        "\n",
        "            # backpropagation\n",
        "            # 1. Multiply its output delta and input activation \n",
        "            #    to get the gradient of the weight.\n",
        "            # 2. Subtract a ratio (percentage) of the gradient from the weight.\n",
        "            for i in range(len(self.weights)):\n",
        "                layer = np.atleast_2d(a[i])\n",
        "                delta = np.atleast_2d(deltas[i])\n",
        "                self.weights[i] += learning_rate * layer.T.dot(delta)\n",
        "\n",
        "    def predict(self, x): \n",
        "        a = np.concatenate((np.ones(1).T, np.array(x)), axis=0)      \n",
        "        for l in range(0, len(self.weights)):\n",
        "            a = self.activation(np.dot(a, self.weights[l]))\n",
        "        return a\n",
        "\n",
        "\n",
        "\n",
        "nn = NeuralNetwork([2,2,1])\n",
        "\n",
        "X = np.array([[0, 0],\n",
        "              [0, 1],\n",
        "              [1, 0],\n",
        "              [1, 1]])\n",
        "\n",
        "y = np.array([0, 1, 1, 0])\n",
        "\n",
        "nn.fit(X, y, epochs=100000)"
      ],
      "execution_count": null,
      "outputs": [
        {
          "output_type": "stream",
          "text": [
            "epochs: 0\n",
            "epochs: 10000\n",
            "epochs: 20000\n",
            "epochs: 30000\n",
            "epochs: 40000\n",
            "epochs: 50000\n",
            "epochs: 60000\n",
            "epochs: 70000\n",
            "epochs: 80000\n",
            "epochs: 90000\n"
          ],
          "name": "stdout"
        }
      ]
    },
    {
      "cell_type": "code",
      "metadata": {
        "id": "m6yyB4xjwjyp",
        "colab_type": "code",
        "colab": {
          "base_uri": "https://localhost:8080/",
          "height": 85
        },
        "outputId": "720a3127-ba4d-4567-f756-dfbcd939fd5c"
      },
      "source": [
        "X, y"
      ],
      "execution_count": null,
      "outputs": [
        {
          "output_type": "execute_result",
          "data": {
            "text/plain": [
              "(array([[0, 0],\n",
              "        [0, 1],\n",
              "        [1, 0],\n",
              "        [1, 1]]), array([0, 1, 1, 0]))"
            ]
          },
          "metadata": {
            "tags": []
          },
          "execution_count": 2
        }
      ]
    },
    {
      "cell_type": "code",
      "metadata": {
        "id": "ZvslVMmMw_tK",
        "colab_type": "code",
        "colab": {
          "base_uri": "https://localhost:8080/",
          "height": 85
        },
        "outputId": "2d32d074-2ede-46ed-8918-0f5b11bac707"
      },
      "source": [
        "for e in X:\n",
        "    print(e,nn.predict(e))"
      ],
      "execution_count": null,
      "outputs": [
        {
          "output_type": "stream",
          "text": [
            "[0 0] [0.00010904]\n",
            "[0 1] [0.99582452]\n",
            "[1 0] [0.99713619]\n",
            "[1 1] [0.00352613]\n"
          ],
          "name": "stdout"
        }
      ]
    },
    {
      "cell_type": "markdown",
      "metadata": {
        "id": "aihY15mawkhv",
        "colab_type": "text"
      },
      "source": [
        "## Count Vectorizer example"
      ]
    },
    {
      "cell_type": "code",
      "metadata": {
        "id": "d6xFJeLXv6sv",
        "colab_type": "code",
        "colab": {}
      },
      "source": [
        "import os\n",
        "import pandas as pd\n",
        "from sklearn.feature_extraction.text import CountVectorizer\n",
        "from sklearn.linear_model import LogisticRegression\n"
      ],
      "execution_count": null,
      "outputs": []
    },
    {
      "cell_type": "code",
      "metadata": {
        "id": "tK670FS5v7QO",
        "colab_type": "code",
        "colab": {
          "base_uri": "https://localhost:8080/",
          "height": 204
        },
        "outputId": "098c8b3e-7e02-4de8-88a2-911c740bd268"
      },
      "source": [
        "# read in a data file that represents sport and non-sports sentences\n",
        "sports_url = \"https://gist.githubusercontent.com/peterg889/198aa5adc4d2022a5042df351c531276/raw/97d9b442c6bab81521a3e51fa645235113ddaff6/sports.csv\"\n",
        "df = pd.read_csv(sports_url)\n",
        "df"
      ],
      "execution_count": null,
      "outputs": [
        {
          "output_type": "execute_result",
          "data": {
            "text/html": [
              "<div>\n",
              "<style scoped>\n",
              "    .dataframe tbody tr th:only-of-type {\n",
              "        vertical-align: middle;\n",
              "    }\n",
              "\n",
              "    .dataframe tbody tr th {\n",
              "        vertical-align: top;\n",
              "    }\n",
              "\n",
              "    .dataframe thead th {\n",
              "        text-align: right;\n",
              "    }\n",
              "</style>\n",
              "<table border=\"1\" class=\"dataframe\">\n",
              "  <thead>\n",
              "    <tr style=\"text-align: right;\">\n",
              "      <th></th>\n",
              "      <th>Text</th>\n",
              "      <th>Category</th>\n",
              "    </tr>\n",
              "  </thead>\n",
              "  <tbody>\n",
              "    <tr>\n",
              "      <th>0</th>\n",
              "      <td>A great game</td>\n",
              "      <td>Sports</td>\n",
              "    </tr>\n",
              "    <tr>\n",
              "      <th>1</th>\n",
              "      <td>The election was over</td>\n",
              "      <td>Not sports</td>\n",
              "    </tr>\n",
              "    <tr>\n",
              "      <th>2</th>\n",
              "      <td>Very clean match</td>\n",
              "      <td>Sports</td>\n",
              "    </tr>\n",
              "    <tr>\n",
              "      <th>3</th>\n",
              "      <td>A clean but forgettable game</td>\n",
              "      <td>Sports</td>\n",
              "    </tr>\n",
              "    <tr>\n",
              "      <th>4</th>\n",
              "      <td>It was a close election</td>\n",
              "      <td>Not sports</td>\n",
              "    </tr>\n",
              "  </tbody>\n",
              "</table>\n",
              "</div>"
            ],
            "text/plain": [
              "                           Text    Category\n",
              "0                  A great game      Sports\n",
              "1         The election was over  Not sports\n",
              "2              Very clean match      Sports\n",
              "3  A clean but forgettable game      Sports\n",
              "4       It was a close election  Not sports"
            ]
          },
          "metadata": {
            "tags": []
          },
          "execution_count": 5
        }
      ]
    },
    {
      "cell_type": "code",
      "metadata": {
        "id": "huhNu39kxGJU",
        "colab_type": "code",
        "colab": {}
      },
      "source": [
        "vectorizer = CountVectorizer()\n",
        "train_data = df.Text.str.lower().tolist()\n",
        "vtrain = vectorizer.fit_transform(train_data)\n"
      ],
      "execution_count": null,
      "outputs": []
    },
    {
      "cell_type": "code",
      "metadata": {
        "id": "QYK9QHDtxz44",
        "colab_type": "code",
        "colab": {
          "base_uri": "https://localhost:8080/",
          "height": 102
        },
        "outputId": "8a7fd295-5435-4935-efc9-6f7f940d3578"
      },
      "source": [
        "train_data"
      ],
      "execution_count": null,
      "outputs": [
        {
          "output_type": "execute_result",
          "data": {
            "text/plain": [
              "['a great game',\n",
              " 'the election was over',\n",
              " 'very clean match',\n",
              " 'a clean but forgettable game',\n",
              " 'it was a close election']"
            ]
          },
          "metadata": {
            "tags": []
          },
          "execution_count": 7
        }
      ]
    },
    {
      "cell_type": "code",
      "metadata": {
        "id": "6_6F90FpxPj0",
        "colab_type": "code",
        "colab": {
          "base_uri": "https://localhost:8080/",
          "height": 51
        },
        "outputId": "c41b8cda-0cf5-46bb-9a1f-4b42b7960067"
      },
      "source": [
        "vtrain"
      ],
      "execution_count": null,
      "outputs": [
        {
          "output_type": "execute_result",
          "data": {
            "text/plain": [
              "<5x13 sparse matrix of type '<class 'numpy.int64'>'\n",
              "\twith 17 stored elements in Compressed Sparse Row format>"
            ]
          },
          "metadata": {
            "tags": []
          },
          "execution_count": 8
        }
      ]
    },
    {
      "cell_type": "code",
      "metadata": {
        "id": "y7s__CZgxTUq",
        "colab_type": "code",
        "colab": {
          "base_uri": "https://localhost:8080/",
          "height": 34
        },
        "outputId": "301f4433-fca6-4a1b-f8a6-6d0b1942ecae"
      },
      "source": [
        "print (\"vocab size\", vtrain.shape)"
      ],
      "execution_count": null,
      "outputs": [
        {
          "output_type": "stream",
          "text": [
            "vocab size (5, 13)\n"
          ],
          "name": "stdout"
        }
      ]
    },
    {
      "cell_type": "code",
      "metadata": {
        "id": "_UB0Y_eCxVep",
        "colab_type": "code",
        "colab": {
          "base_uri": "https://localhost:8080/",
          "height": 238
        },
        "outputId": "a2173ef2-1aae-445f-8868-ff935817d2db"
      },
      "source": [
        "vectorizer.get_feature_names()"
      ],
      "execution_count": null,
      "outputs": [
        {
          "output_type": "execute_result",
          "data": {
            "text/plain": [
              "['but',\n",
              " 'clean',\n",
              " 'close',\n",
              " 'election',\n",
              " 'forgettable',\n",
              " 'game',\n",
              " 'great',\n",
              " 'it',\n",
              " 'match',\n",
              " 'over',\n",
              " 'the',\n",
              " 'very',\n",
              " 'was']"
            ]
          },
          "metadata": {
            "tags": []
          },
          "execution_count": 10
        }
      ]
    },
    {
      "cell_type": "code",
      "metadata": {
        "id": "uYhZfvbwxW4i",
        "colab_type": "code",
        "colab": {
          "base_uri": "https://localhost:8080/",
          "height": 238
        },
        "outputId": "87beb311-14cc-4f97-b8b2-987cf38f9777"
      },
      "source": [
        "vectorizer.vocabulary_"
      ],
      "execution_count": null,
      "outputs": [
        {
          "output_type": "execute_result",
          "data": {
            "text/plain": [
              "{'but': 0,\n",
              " 'clean': 1,\n",
              " 'close': 2,\n",
              " 'election': 3,\n",
              " 'forgettable': 4,\n",
              " 'game': 5,\n",
              " 'great': 6,\n",
              " 'it': 7,\n",
              " 'match': 8,\n",
              " 'over': 9,\n",
              " 'the': 10,\n",
              " 'very': 11,\n",
              " 'was': 12}"
            ]
          },
          "metadata": {
            "tags": []
          },
          "execution_count": 11
        }
      ]
    },
    {
      "cell_type": "code",
      "metadata": {
        "id": "75lsySPZxX_4",
        "colab_type": "code",
        "colab": {
          "base_uri": "https://localhost:8080/",
          "height": 102
        },
        "outputId": "99001e50-98ab-4ab9-9918-03b6011d1621"
      },
      "source": [
        "vtrain.toarray()"
      ],
      "execution_count": null,
      "outputs": [
        {
          "output_type": "execute_result",
          "data": {
            "text/plain": [
              "array([[0, 0, 0, 0, 0, 1, 1, 0, 0, 0, 0, 0, 0],\n",
              "       [0, 0, 0, 1, 0, 0, 0, 0, 0, 1, 1, 0, 1],\n",
              "       [0, 1, 0, 0, 0, 0, 0, 0, 1, 0, 0, 1, 0],\n",
              "       [1, 1, 0, 0, 1, 1, 0, 0, 0, 0, 0, 0, 0],\n",
              "       [0, 0, 1, 1, 0, 0, 0, 1, 0, 0, 0, 0, 1]])"
            ]
          },
          "metadata": {
            "tags": []
          },
          "execution_count": 12
        }
      ]
    },
    {
      "cell_type": "code",
      "metadata": {
        "id": "RO_jSBjkyOOo",
        "colab_type": "code",
        "colab": {
          "base_uri": "https://localhost:8080/",
          "height": 34
        },
        "outputId": "041e60a7-a5a5-497a-f49f-628048e4ebfc"
      },
      "source": [
        "vectorizer.inverse_transform([0, 0, 0, 0, 0, 1, 1, 0, 0, 0, 0, 0, 0])"
      ],
      "execution_count": null,
      "outputs": [
        {
          "output_type": "execute_result",
          "data": {
            "text/plain": [
              "[array(['game', 'great'], dtype='<U11')]"
            ]
          },
          "metadata": {
            "tags": []
          },
          "execution_count": 13
        }
      ]
    },
    {
      "cell_type": "code",
      "metadata": {
        "id": "1tImaVh6zF17",
        "colab_type": "code",
        "colab": {
          "base_uri": "https://localhost:8080/",
          "height": 306
        },
        "outputId": "0be53cd9-9809-45b6-c836-41b2fc18ad39"
      },
      "source": [
        "vectorizer.get_params()"
      ],
      "execution_count": null,
      "outputs": [
        {
          "output_type": "execute_result",
          "data": {
            "text/plain": [
              "{'analyzer': 'word',\n",
              " 'binary': False,\n",
              " 'decode_error': 'strict',\n",
              " 'dtype': numpy.int64,\n",
              " 'encoding': 'utf-8',\n",
              " 'input': 'content',\n",
              " 'lowercase': True,\n",
              " 'max_df': 1.0,\n",
              " 'max_features': None,\n",
              " 'min_df': 1,\n",
              " 'ngram_range': (1, 1),\n",
              " 'preprocessor': None,\n",
              " 'stop_words': None,\n",
              " 'strip_accents': None,\n",
              " 'token_pattern': '(?u)\\\\b\\\\w\\\\w+\\\\b',\n",
              " 'tokenizer': None,\n",
              " 'vocabulary': None}"
            ]
          },
          "metadata": {
            "tags": []
          },
          "execution_count": 14
        }
      ]
    },
    {
      "cell_type": "code",
      "metadata": {
        "id": "6iUx9W2Uxa8g",
        "colab_type": "code",
        "colab": {
          "base_uri": "https://localhost:8080/",
          "height": 102
        },
        "outputId": "3852574c-ec21-49f3-8924-88aacd5ea2b5"
      },
      "source": [
        "train_data"
      ],
      "execution_count": null,
      "outputs": [
        {
          "output_type": "execute_result",
          "data": {
            "text/plain": [
              "['a great game',\n",
              " 'the election was over',\n",
              " 'very clean match',\n",
              " 'a clean but forgettable game',\n",
              " 'it was a close election']"
            ]
          },
          "metadata": {
            "tags": []
          },
          "execution_count": 15
        }
      ]
    },
    {
      "cell_type": "markdown",
      "metadata": {
        "id": "iBGr7tXTzkHB",
        "colab_type": "text"
      },
      "source": [
        "## Count vectorizer - with logistic regression/neural nets"
      ]
    },
    {
      "cell_type": "code",
      "metadata": {
        "id": "YsG4j1iTxiZw",
        "colab_type": "code",
        "colab": {
          "base_uri": "https://localhost:8080/",
          "height": 204
        },
        "outputId": "3ed5e591-8c4b-4775-f9e5-5a632a9f32a3"
      },
      "source": [
        "df['labels'] = (df.Category == \"Sports\")* 1.\n",
        "df"
      ],
      "execution_count": null,
      "outputs": [
        {
          "output_type": "execute_result",
          "data": {
            "text/html": [
              "<div>\n",
              "<style scoped>\n",
              "    .dataframe tbody tr th:only-of-type {\n",
              "        vertical-align: middle;\n",
              "    }\n",
              "\n",
              "    .dataframe tbody tr th {\n",
              "        vertical-align: top;\n",
              "    }\n",
              "\n",
              "    .dataframe thead th {\n",
              "        text-align: right;\n",
              "    }\n",
              "</style>\n",
              "<table border=\"1\" class=\"dataframe\">\n",
              "  <thead>\n",
              "    <tr style=\"text-align: right;\">\n",
              "      <th></th>\n",
              "      <th>Text</th>\n",
              "      <th>Category</th>\n",
              "      <th>labels</th>\n",
              "    </tr>\n",
              "  </thead>\n",
              "  <tbody>\n",
              "    <tr>\n",
              "      <th>0</th>\n",
              "      <td>A great game</td>\n",
              "      <td>Sports</td>\n",
              "      <td>1.0</td>\n",
              "    </tr>\n",
              "    <tr>\n",
              "      <th>1</th>\n",
              "      <td>The election was over</td>\n",
              "      <td>Not sports</td>\n",
              "      <td>0.0</td>\n",
              "    </tr>\n",
              "    <tr>\n",
              "      <th>2</th>\n",
              "      <td>Very clean match</td>\n",
              "      <td>Sports</td>\n",
              "      <td>1.0</td>\n",
              "    </tr>\n",
              "    <tr>\n",
              "      <th>3</th>\n",
              "      <td>A clean but forgettable game</td>\n",
              "      <td>Sports</td>\n",
              "      <td>1.0</td>\n",
              "    </tr>\n",
              "    <tr>\n",
              "      <th>4</th>\n",
              "      <td>It was a close election</td>\n",
              "      <td>Not sports</td>\n",
              "      <td>0.0</td>\n",
              "    </tr>\n",
              "  </tbody>\n",
              "</table>\n",
              "</div>"
            ],
            "text/plain": [
              "                           Text    Category  labels\n",
              "0                  A great game      Sports     1.0\n",
              "1         The election was over  Not sports     0.0\n",
              "2              Very clean match      Sports     1.0\n",
              "3  A clean but forgettable game      Sports     1.0\n",
              "4       It was a close election  Not sports     0.0"
            ]
          },
          "metadata": {
            "tags": []
          },
          "execution_count": 16
        }
      ]
    },
    {
      "cell_type": "code",
      "metadata": {
        "id": "11RQeL-NzyB5",
        "colab_type": "code",
        "colab": {}
      },
      "source": [
        "train_labels = df['labels'].tolist()"
      ],
      "execution_count": null,
      "outputs": []
    },
    {
      "cell_type": "markdown",
      "metadata": {
        "id": "biTv5WN-0E7Z",
        "colab_type": "text"
      },
      "source": [
        "### Logistic Regression"
      ]
    },
    {
      "cell_type": "code",
      "metadata": {
        "id": "vSGvjIpZznE0",
        "colab_type": "code",
        "colab": {
          "base_uri": "https://localhost:8080/",
          "height": 34
        },
        "outputId": "a47d50e9-bb1d-4d68-8197-d1fe212f0630"
      },
      "source": [
        "lr_clf = LogisticRegression(C=1)\n",
        "lr_clf.fit(vtrain, train_labels)\n",
        "\n",
        "train_predict = lr_clf.predict(vtrain)\n",
        "train_predict"
      ],
      "execution_count": null,
      "outputs": [
        {
          "output_type": "execute_result",
          "data": {
            "text/plain": [
              "array([1., 0., 1., 1., 0.])"
            ]
          },
          "metadata": {
            "tags": []
          },
          "execution_count": 18
        }
      ]
    },
    {
      "cell_type": "code",
      "metadata": {
        "id": "RpJl4quLzumD",
        "colab_type": "code",
        "colab": {
          "base_uri": "https://localhost:8080/",
          "height": 102
        },
        "outputId": "2af0a055-ca2d-47e3-b57a-d296a51744ae"
      },
      "source": [
        "lr_clf.predict_proba(vtrain)"
      ],
      "execution_count": null,
      "outputs": [
        {
          "output_type": "execute_result",
          "data": {
            "text/plain": [
              "array([[0.21456222, 0.78543778],\n",
              "       [0.72164009, 0.27835991],\n",
              "       [0.19120814, 0.80879186],\n",
              "       [0.15093898, 0.84906102],\n",
              "       [0.72164009, 0.27835991]])"
            ]
          },
          "metadata": {
            "tags": []
          },
          "execution_count": 19
        }
      ]
    },
    {
      "cell_type": "code",
      "metadata": {
        "id": "QFMEimflz0n3",
        "colab_type": "code",
        "colab": {
          "base_uri": "https://localhost:8080/",
          "height": 34
        },
        "outputId": "9792cda6-530e-4789-ae0c-a6076c475506"
      },
      "source": [
        "test_sentence = \"A very close baseball game\"\n",
        "vdev = vectorizer.transform([test_sentence.lower()])\n",
        "\n",
        "lr_clf.predict(vdev)\n",
        "\n",
        "lr_clf.predict_proba(vdev)"
      ],
      "execution_count": null,
      "outputs": [
        {
          "output_type": "execute_result",
          "data": {
            "text/plain": [
              "array([[0.26974001, 0.73025999]])"
            ]
          },
          "metadata": {
            "tags": []
          },
          "execution_count": 20
        }
      ]
    },
    {
      "cell_type": "code",
      "metadata": {
        "id": "krPvcKtTB0gh",
        "colab_type": "code",
        "colab": {
          "base_uri": "https://localhost:8080/",
          "height": 51
        },
        "outputId": "c7821ba7-f97f-4510-a252-eee6545ce3bb"
      },
      "source": [
        "vdev"
      ],
      "execution_count": null,
      "outputs": [
        {
          "output_type": "execute_result",
          "data": {
            "text/plain": [
              "<1x13 sparse matrix of type '<class 'numpy.int64'>'\n",
              "\twith 3 stored elements in Compressed Sparse Row format>"
            ]
          },
          "metadata": {
            "tags": []
          },
          "execution_count": 21
        }
      ]
    },
    {
      "cell_type": "markdown",
      "metadata": {
        "id": "UgUUsyS20G5J",
        "colab_type": "text"
      },
      "source": [
        "### Multi level perceptron"
      ]
    },
    {
      "cell_type": "code",
      "metadata": {
        "id": "u31XKtQVz2wI",
        "colab_type": "code",
        "colab": {}
      },
      "source": [
        "from sklearn.neural_network import MLPClassifier\n",
        "clf = MLPClassifier(solver='lbfgs', alpha=1e-5, hidden_layer_sizes=(5, 2), random_state=1)"
      ],
      "execution_count": null,
      "outputs": []
    },
    {
      "cell_type": "code",
      "metadata": {
        "id": "sfv40aZj0LZt",
        "colab_type": "code",
        "colab": {
          "base_uri": "https://localhost:8080/",
          "height": 153
        },
        "outputId": "cdda5de9-7b5b-4c42-bfe3-add7f6a7d5fd"
      },
      "source": [
        "clf.fit(vtrain, train_labels)  "
      ],
      "execution_count": null,
      "outputs": [
        {
          "output_type": "execute_result",
          "data": {
            "text/plain": [
              "MLPClassifier(activation='relu', alpha=1e-05, batch_size='auto', beta_1=0.9,\n",
              "              beta_2=0.999, early_stopping=False, epsilon=1e-08,\n",
              "              hidden_layer_sizes=(5, 2), learning_rate='constant',\n",
              "              learning_rate_init=0.001, max_fun=15000, max_iter=200,\n",
              "              momentum=0.9, n_iter_no_change=10, nesterovs_momentum=True,\n",
              "              power_t=0.5, random_state=1, shuffle=True, solver='lbfgs',\n",
              "              tol=0.0001, validation_fraction=0.1, verbose=False,\n",
              "              warm_start=False)"
            ]
          },
          "metadata": {
            "tags": []
          },
          "execution_count": 23
        }
      ]
    },
    {
      "cell_type": "code",
      "metadata": {
        "id": "mKV5TThZ0VSX",
        "colab_type": "code",
        "colab": {
          "base_uri": "https://localhost:8080/",
          "height": 34
        },
        "outputId": "e81a899a-2717-4357-e9cc-3b8c87df186d"
      },
      "source": [
        "clf.predict(vtrain)"
      ],
      "execution_count": null,
      "outputs": [
        {
          "output_type": "execute_result",
          "data": {
            "text/plain": [
              "array([1., 0., 1., 1., 0.])"
            ]
          },
          "metadata": {
            "tags": []
          },
          "execution_count": 24
        }
      ]
    },
    {
      "cell_type": "code",
      "metadata": {
        "id": "a_bxLb-zmDlX",
        "colab_type": "code",
        "colab": {
          "base_uri": "https://localhost:8080/",
          "height": 34
        },
        "outputId": "da8e7e9d-9393-43a1-c9c0-d46dbfba6497"
      },
      "source": [
        "clf.predict_proba(vdev)"
      ],
      "execution_count": null,
      "outputs": [
        {
          "output_type": "execute_result",
          "data": {
            "text/plain": [
              "array([[1.03261581e-04, 9.99896738e-01]])"
            ]
          },
          "metadata": {
            "tags": []
          },
          "execution_count": 25
        }
      ]
    },
    {
      "cell_type": "code",
      "metadata": {
        "id": "Yo0KXJZN0Zdp",
        "colab_type": "code",
        "colab": {
          "base_uri": "https://localhost:8080/",
          "height": 34
        },
        "outputId": "d3768b3c-e71a-48fe-d494-ac5c8f69f3c4"
      },
      "source": [
        "test_sentence = \"A very close baseball game\"\n",
        "clf.predict(vdev)"
      ],
      "execution_count": null,
      "outputs": [
        {
          "output_type": "execute_result",
          "data": {
            "text/plain": [
              "array([1.])"
            ]
          },
          "metadata": {
            "tags": []
          },
          "execution_count": 26
        }
      ]
    },
    {
      "cell_type": "markdown",
      "metadata": {
        "id": "0IvnSJtf0sTR",
        "colab_type": "text"
      },
      "source": [
        "## Digit Classification with Neural Networks\n",
        "\n",
        "Interest in neural networks, and in particular those with architechures that support deep learning, has surged in recent years.\n",
        "\n",
        "In this notebook we will be revisiting the problem of digit classification on the MNIST data. In doing so, we will introduce a new Python library, Theano, for working with neural networks. Theano is a popular choice for neural networks as the same code can be run on either CPUs or GPUs. GPUs greatly speed up the training and prediction, and is readily available. Amazon even offers GPU machines on EC2.\n",
        "\n",
        "In part 1, we'll introduce Theano, and refresh ourselves on the MNIST dataset. In part 2, we'll create a multi-layer neural network with a simple architechure, and train it using backpropagation. Part 3 will introduce the convolutional architechure, which can be said to be doing 'deep learning' (also called feature learning or representation learning)."
      ]
    },
    {
      "cell_type": "markdown",
      "metadata": {
        "id": "pzAY2QHL04nx",
        "colab_type": "text"
      },
      "source": [
        "### Part 1 - basics\n",
        "Lets start to look at Theano. If later you'd like to go deeper into Theano, you may want to read this paper: http://www.iro.umontreal.ca/~lisa/pointeurs/theano_scipy2010.pdf\n",
        "\n",
        "Install Theano if you haven't already. Then let's load it, and set it to work with a CPU. For reference, here is the Theano documentation: http://www.deeplearning.net/software/theano/library/"
      ]
    },
    {
      "cell_type": "code",
      "metadata": {
        "id": "NLB2M0S70bZl",
        "colab_type": "code",
        "colab": {
          "base_uri": "https://localhost:8080/",
          "height": 51
        },
        "outputId": "7f452fe7-6e7a-41d8-8e83-e7d1f68410c7"
      },
      "source": [
        "%matplotlib inline\n",
        "\n",
        "import numpy as np\n",
        "from sklearn.datasets import fetch_openml\n",
        "from sklearn.metrics import classification_report\n",
        "from sklearn.neighbors import KNeighborsClassifier\n",
        "import time\n",
        "\n",
        "import theano \n",
        "from theano import tensor as T\n",
        "from theano.sandbox.rng_mrg import MRG_RandomStreams as RandomStreams\n",
        "print(theano.config.device) # We're using CPUs (for now)\n",
        "print(theano.config.floatX) # Should be 64 bit for CPUs\n",
        "\n",
        "np.random.seed(0)"
      ],
      "execution_count": null,
      "outputs": [
        {
          "output_type": "stream",
          "text": [
            "cpu\n",
            "float64\n"
          ],
          "name": "stdout"
        }
      ]
    },
    {
      "cell_type": "markdown",
      "metadata": {
        "id": "bwDGBMkJ1JNj",
        "colab_type": "text"
      },
      "source": [
        "Load back up the MNIST data"
      ]
    },
    {
      "cell_type": "code",
      "metadata": {
        "id": "OK2dCc4F1BnG",
        "colab_type": "code",
        "colab": {
          "base_uri": "https://localhost:8080/",
          "height": 68
        },
        "outputId": "ac4a1de7-78e6-41bb-f9fc-cd800a170404"
      },
      "source": [
        "# Repeating steps from Project 1 to prepare mnist dataset. \n",
        "X, Y = fetch_openml(name='mnist_784', return_X_y=True, cache=False)\n",
        "\n",
        "X = X / 255.0\n",
        "shuffle = np.random.permutation(np.arange(X.shape[0]))\n",
        "X, Y = X[shuffle], Y[shuffle]\n",
        "numExamples = 2000\n",
        "test_data, test_labels = X[70000-numExamples:], Y[70000-numExamples:]\n",
        "train_data, train_labels = X[:numExamples], Y[:numExamples]\n",
        "numFeatures = train_data[1].size\n",
        "numTrainExamples = train_data.shape[0]\n",
        "numTestExamples = test_data.shape[0]\n",
        "print('Features = %d' %(numFeatures))\n",
        "print('Train set = %d' %(numTrainExamples))\n",
        "print('Test set = %d' %(numTestExamples))"
      ],
      "execution_count": null,
      "outputs": [
        {
          "output_type": "stream",
          "text": [
            "Features = 784\n",
            "Train set = 2000\n",
            "Test set = 2000\n"
          ],
          "name": "stdout"
        }
      ]
    },
    {
      "cell_type": "markdown",
      "metadata": {
        "id": "Z0rnXhA71YVW",
        "colab_type": "text"
      },
      "source": [
        "Looking ahead to working with neural networks, let's prepare one additional variation of the label data. Let's make these labels, rather than each being an integer value from 0-9, be a set of 10 binary values, one for each class. This is sometimes called a 1-of-n encoding, and it makes working with Neural Networks easier, as there will be one output node for each class."
      ]
    },
    {
      "cell_type": "code",
      "metadata": {
        "id": "86V5R-371Ofg",
        "colab_type": "code",
        "colab": {
          "base_uri": "https://localhost:8080/",
          "height": 34
        },
        "outputId": "6f4a66f7-e886-40f7-cf55-98a4564d2251"
      },
      "source": [
        "def binarizeY(data):\n",
        "    binarized_data = np.zeros((data.size,10))\n",
        "    for j in range(0,data.size):\n",
        "        feature = data[j:j+1]\n",
        "        i = feature.astype(np.int64) \n",
        "        binarized_data[j,i]=1\n",
        "    return binarized_data\n",
        "train_labels_b = binarizeY(train_labels)\n",
        "test_labels_b = binarizeY(test_labels)\n",
        "numClasses = train_labels_b[1].size\n",
        "print('Classes = %d' %(numClasses))"
      ],
      "execution_count": null,
      "outputs": [
        {
          "output_type": "stream",
          "text": [
            "Classes = 10\n"
          ],
          "name": "stdout"
        }
      ]
    },
    {
      "cell_type": "markdown",
      "metadata": {
        "id": "uxwXMN4B1gAL",
        "colab_type": "text"
      },
      "source": [
        "Lets start with a KNN model to establish a baseline accuracy."
      ]
    },
    {
      "cell_type": "code",
      "metadata": {
        "id": "6tTGN85Y1bcF",
        "colab_type": "code",
        "colab": {
          "base_uri": "https://localhost:8080/",
          "height": 68
        },
        "outputId": "444a1fe3-9d3f-4b6d-abcb-1ae31148b673"
      },
      "source": [
        "neighbors = 1\n",
        "knn = KNeighborsClassifier(neighbors)\n",
        "# we'll be waiting quite a while if we use 60K examples, so let's cut it down.  You may want to run the full 60K on your own later to see what the accuracy is.\n",
        "mini_train_data, mini_train_labels = X[:numExamples], Y[:numExamples] \n",
        "start_time = time.time()\n",
        "knn.fit(mini_train_data, mini_train_labels)\n",
        "print('Train time = %.2f'% (time.time() - start_time))\n",
        "start_time = time.time()\n",
        "accuracy = knn.score(test_data, test_labels)\n",
        "print('Accuracy = %.4f' %(accuracy))\n",
        "print('Prediction time = %.2f' %(time.time() - start_time))"
      ],
      "execution_count": null,
      "outputs": [
        {
          "output_type": "stream",
          "text": [
            "Train time = 0.15\n",
            "Accuracy = 0.9065\n",
            "Prediction time = 7.58\n"
          ],
          "name": "stdout"
        }
      ]
    },
    {
      "cell_type": "markdown",
      "metadata": {
        "id": "e32wmK341oYP",
        "colab_type": "text"
      },
      "source": [
        "\n",
        "\n",
        "Alright, now that we have a simple baseline, let's start working in Theano. Before we jump to multi-layer neural networks though, let's train a logistic regression model to make certain we're using Theano correctly.\n",
        "\n",
        "Recall there are four keye components: (1) parameters, (2) model, (3) cost function, and (4) objective."
      ]
    },
    {
      "cell_type": "code",
      "metadata": {
        "id": "wYlign4j1l1e",
        "colab_type": "code",
        "colab": {}
      },
      "source": [
        "## (1) Parameters \n",
        "# Initialize the weights to small, but non-zero, values.\n",
        "w = theano.shared(np.asarray((np.random.randn(*(numFeatures, numClasses))*.01)))"
      ],
      "execution_count": null,
      "outputs": []
    },
    {
      "cell_type": "markdown",
      "metadata": {
        "id": "J-yAvN1y1vwS",
        "colab_type": "text"
      },
      "source": [
        "Two notes relevant at this point:\n",
        "\n",
        "First, logistic regression can be thought of as a neural network with no hidden layers. The output values are just the dot product of the inputs and the edge weights.\n",
        "\n",
        "Second, we have 10 classes. We can either train separate one vs all classifiers using sigmoid activation, which would be a hassle, or we can use the softmax activation, which is essentially a multi-class version of sigmoid. We'll use Theano's built-in implementation of softmax."
      ]
    },
    {
      "cell_type": "code",
      "metadata": {
        "id": "0j1czBoA1uCt",
        "colab_type": "code",
        "colab": {}
      },
      "source": [
        "## (2) Model\n",
        "# Theano objects accessed with standard Python variables\n",
        "X = T.matrix()\n",
        "Y = T.matrix()\n",
        "\n",
        "def model(X, w):\n",
        "    return T.nnet.softmax(T.dot(X, w))\n",
        "y_hat = model(X, w)"
      ],
      "execution_count": null,
      "outputs": []
    },
    {
      "cell_type": "markdown",
      "metadata": {
        "id": "p39tvJri5Yrs",
        "colab_type": "text"
      },
      "source": [
        "We'll use cross-entropy as a cost function. Cross entropy only considers the error between the true class and the prediction, and not the errors for the false classes. This tends to cause the network to converge faster. We'll use Theano's built-in cross entropy function."
      ]
    },
    {
      "cell_type": "code",
      "metadata": {
        "id": "zmhGOffP11OJ",
        "colab_type": "code",
        "colab": {}
      },
      "source": [
        "## (3) Cost function\n",
        "cost = T.mean(T.nnet.categorical_crossentropy(y_hat, Y))"
      ],
      "execution_count": null,
      "outputs": []
    },
    {
      "cell_type": "markdown",
      "metadata": {
        "id": "S4zGg3KO5dRV",
        "colab_type": "text"
      },
      "source": [
        "The objective is minimize the cost, and to do that we'll use batch gradient descent.\n",
        "\n",
        "We'll use Theano's built-in gradient function. "
      ]
    },
    {
      "cell_type": "code",
      "metadata": {
        "id": "UygtwPd35aKD",
        "colab_type": "code",
        "colab": {
          "base_uri": "https://localhost:8080/",
          "height": 918
        },
        "outputId": "ba307aa8-4d4b-47b8-a6be-32e233ae9df9"
      },
      "source": [
        "## (4) Objective (and solver)\n",
        "\n",
        "alpha = 0.01\n",
        "gradient = T.grad(cost=cost, wrt=w) \n",
        "update = [[w, w - gradient * alpha]] \n",
        "train = theano.function(inputs=[X, Y], outputs=cost, updates=update, allow_input_downcast=True) # computes cost, then runs update\n",
        "y_pred = T.argmax(y_hat, axis=1) # select largest probability as prediction\n",
        "predict = theano.function(inputs=[X], outputs=y_pred, allow_input_downcast=True)\n",
        "\n",
        "def gradientDescent(epochs):\n",
        "    trainTime = 0.0\n",
        "    predictTime = 0.0\n",
        "    for i in range(epochs):\n",
        "        start_time = time.time()\n",
        "        cost = train(train_data[0:len(train_data)], train_labels_b[0:len(train_data)])\n",
        "        trainTime =  trainTime + (time.time() - start_time)\n",
        "        if epochs < 500:\n",
        "          print('%d) accuracy = %.4f' %(i+1, np.mean(np.argmax(test_labels_b, axis=1) == predict(test_data))))\n",
        "        else:\n",
        "          if i % 1000 == 0:\n",
        "            print('%d) accuracy = %.4f' %(i+1, np.mean(np.argmax(test_labels_b, axis=1) == predict(test_data))))\n",
        "    print('train time = %.2f' %(trainTime))\n",
        "\n",
        "gradientDescent(50)\n",
        "\n",
        "start_time = time.time()\n",
        "predict(test_data)   \n",
        "print('predict time = %.2f' %(time.time() - start_time))"
      ],
      "execution_count": null,
      "outputs": [
        {
          "output_type": "stream",
          "text": [
            "WARNING (theano.tensor.blas): We did not find a dynamic library in the library_dir of the library we use for blas. If you use ATLAS, make sure to compile it with dynamics library.\n"
          ],
          "name": "stderr"
        },
        {
          "output_type": "stream",
          "text": [
            "1) accuracy = 0.0970\n",
            "2) accuracy = 0.1245\n",
            "3) accuracy = 0.1555\n",
            "4) accuracy = 0.1830\n",
            "5) accuracy = 0.2195\n",
            "6) accuracy = 0.2490\n",
            "7) accuracy = 0.2830\n",
            "8) accuracy = 0.3075\n",
            "9) accuracy = 0.3420\n",
            "10) accuracy = 0.3645\n",
            "11) accuracy = 0.3905\n",
            "12) accuracy = 0.4105\n",
            "13) accuracy = 0.4265\n",
            "14) accuracy = 0.4470\n",
            "15) accuracy = 0.4635\n",
            "16) accuracy = 0.4765\n",
            "17) accuracy = 0.4880\n",
            "18) accuracy = 0.5010\n",
            "19) accuracy = 0.5130\n",
            "20) accuracy = 0.5235\n",
            "21) accuracy = 0.5350\n",
            "22) accuracy = 0.5430\n",
            "23) accuracy = 0.5520\n",
            "24) accuracy = 0.5575\n",
            "25) accuracy = 0.5645\n",
            "26) accuracy = 0.5695\n",
            "27) accuracy = 0.5745\n",
            "28) accuracy = 0.5855\n",
            "29) accuracy = 0.5895\n",
            "30) accuracy = 0.5985\n",
            "31) accuracy = 0.6045\n",
            "32) accuracy = 0.6090\n",
            "33) accuracy = 0.6120\n",
            "34) accuracy = 0.6155\n",
            "35) accuracy = 0.6195\n",
            "36) accuracy = 0.6240\n",
            "37) accuracy = 0.6260\n",
            "38) accuracy = 0.6285\n",
            "39) accuracy = 0.6310\n",
            "40) accuracy = 0.6325\n",
            "41) accuracy = 0.6350\n",
            "42) accuracy = 0.6400\n",
            "43) accuracy = 0.6420\n",
            "44) accuracy = 0.6465\n",
            "45) accuracy = 0.6500\n",
            "46) accuracy = 0.6520\n",
            "47) accuracy = 0.6540\n",
            "48) accuracy = 0.6570\n",
            "49) accuracy = 0.6595\n",
            "50) accuracy = 0.6620\n",
            "train time = 0.61\n",
            "predict time = 0.00\n"
          ],
          "name": "stdout"
        }
      ]
    },
    {
      "cell_type": "code",
      "metadata": {
        "id": "77oQbbuU5lrD",
        "colab_type": "code",
        "colab": {
          "base_uri": "https://localhost:8080/",
          "height": 884
        },
        "outputId": "192e4253-9ad2-476c-f9a1-87c2293bc59e"
      },
      "source": [
        "gradientDescent(50000)"
      ],
      "execution_count": null,
      "outputs": [
        {
          "output_type": "stream",
          "text": [
            "1) accuracy = 0.6625\n",
            "1001) accuracy = 0.8550\n",
            "2001) accuracy = 0.8680\n",
            "3001) accuracy = 0.8735\n",
            "4001) accuracy = 0.8780\n",
            "5001) accuracy = 0.8810\n",
            "6001) accuracy = 0.8830\n",
            "7001) accuracy = 0.8835\n",
            "8001) accuracy = 0.8845\n",
            "9001) accuracy = 0.8845\n",
            "10001) accuracy = 0.8850\n",
            "11001) accuracy = 0.8855\n",
            "12001) accuracy = 0.8860\n",
            "13001) accuracy = 0.8860\n",
            "14001) accuracy = 0.8855\n",
            "15001) accuracy = 0.8860\n",
            "16001) accuracy = 0.8855\n",
            "17001) accuracy = 0.8855\n",
            "18001) accuracy = 0.8865\n",
            "19001) accuracy = 0.8865\n",
            "20001) accuracy = 0.8860\n",
            "21001) accuracy = 0.8860\n",
            "22001) accuracy = 0.8860\n",
            "23001) accuracy = 0.8860\n",
            "24001) accuracy = 0.8855\n",
            "25001) accuracy = 0.8855\n",
            "26001) accuracy = 0.8845\n",
            "27001) accuracy = 0.8840\n",
            "28001) accuracy = 0.8840\n",
            "29001) accuracy = 0.8835\n",
            "30001) accuracy = 0.8840\n",
            "31001) accuracy = 0.8840\n",
            "32001) accuracy = 0.8840\n",
            "33001) accuracy = 0.8850\n",
            "34001) accuracy = 0.8850\n",
            "35001) accuracy = 0.8845\n",
            "36001) accuracy = 0.8840\n",
            "37001) accuracy = 0.8840\n",
            "38001) accuracy = 0.8835\n",
            "39001) accuracy = 0.8830\n",
            "40001) accuracy = 0.8830\n",
            "41001) accuracy = 0.8835\n",
            "42001) accuracy = 0.8830\n",
            "43001) accuracy = 0.8830\n",
            "44001) accuracy = 0.8830\n",
            "45001) accuracy = 0.8835\n",
            "46001) accuracy = 0.8840\n",
            "47001) accuracy = 0.8840\n",
            "48001) accuracy = 0.8840\n",
            "49001) accuracy = 0.8830\n",
            "train time = 576.80\n"
          ],
          "name": "stdout"
        }
      ]
    },
    {
      "cell_type": "code",
      "metadata": {
        "id": "veEoeMVd_5-z",
        "colab_type": "code",
        "colab": {}
      },
      "source": [
        ""
      ],
      "execution_count": null,
      "outputs": []
    }
  ]
}