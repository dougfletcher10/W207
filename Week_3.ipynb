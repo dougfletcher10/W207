{
  "nbformat": 4,
  "nbformat_minor": 0,
  "metadata": {
    "colab": {
      "name": "Week 3",
      "provenance": [],
      "collapsed_sections": [],
      "include_colab_link": true
    },
    "kernelspec": {
      "name": "python3",
      "display_name": "Python 3"
    }
  },
  "cells": [
    {
      "cell_type": "markdown",
      "metadata": {
        "id": "view-in-github",
        "colab_type": "text"
      },
      "source": [
        "<a href=\"https://colab.research.google.com/github/dougfletcher10/W207/blob/master/Week_3.ipynb\" target=\"_parent\"><img src=\"https://colab.research.google.com/assets/colab-badge.svg\" alt=\"Open In Colab\"/></a>"
      ]
    },
    {
      "cell_type": "markdown",
      "metadata": {
        "id": "UWSGDMZLtsoV",
        "colab_type": "text"
      },
      "source": [
        "# Bayes Theory\n",
        "\n",
        "<img src=\"https://pcdn.piiojs.com/i/kqctmw/vw,222,vh,0,r,1,pr,2,wp,1/https%3A%2F%2Fmonkeylearn.com%2Fblog%2Fwp-content%2Fql-cache%2Fquicklatex.com-6f656ab975a4dc6d1bfd2af6bc601af3_l3.png\">"
      ]
    },
    {
      "cell_type": "markdown",
      "metadata": {
        "id": "_AdYt6lyLnkG",
        "colab_type": "text"
      },
      "source": [
        "## Build and text a Naive Bayes classifier\n",
        "We will again use the iris data. In case you don't feel familiar with the iris varieties yet, here are some pictures. The petals are smaller and stick out above the larger, flatter sepals. In many flowers, the sepal is a greenish support below the petals, but the iris sepals are designed specifically as landing pads for bumblebees, and the bright yellow coloring on the sepal directs the bees down into the tight space where pollination happens.\n",
        "\n",
        "<img src=\"https://www.pngkey.com/png/full/82-826789_iris-iris-sepal-and-petal.png\">\n"
      ]
    },
    {
      "cell_type": "code",
      "metadata": {
        "id": "02BVXTV2LsWH",
        "colab_type": "code",
        "colab": {}
      },
      "source": [
        "# This tells matplotlib not to try opening a new window for each plot.\n",
        "%matplotlib inline\n",
        "\n",
        "import matplotlib.pyplot as plt\n",
        "import numpy as np\n",
        "from sklearn.datasets import load_iris\n",
        "from sklearn.naive_bayes import BernoulliNB\n",
        "import pandas as pd"
      ],
      "execution_count": 0,
      "outputs": []
    },
    {
      "cell_type": "code",
      "metadata": {
        "id": "D2khaKlLMTGe",
        "colab_type": "code",
        "outputId": "f486d799-0215-4292-c75d-cd70fa223210",
        "colab": {
          "base_uri": "https://localhost:8080/",
          "height": 51
        }
      },
      "source": [
        "# Load the data, which is included in sklearn.\n",
        "iris = load_iris()\n",
        "print ('Iris target names:', iris.target_names)\n",
        "print ('Iris feature names:', iris.feature_names)\n",
        "X, Y = iris.data, iris.target\n",
        "\n",
        "# Shuffle the data, but make sure that the features and accompanying labels stay in sync.\n",
        "np.random.seed(0)\n",
        "shuffle = np.random.permutation(np.arange(X.shape[0]))\n",
        "X, Y = X[shuffle], Y[shuffle]\n",
        "\n",
        "# Split into train and test.\n",
        "train_data, train_labels = X[:100], Y[:100]\n",
        "test_data, test_labels = X[100:], Y[100:]\n"
      ],
      "execution_count": 0,
      "outputs": [
        {
          "output_type": "stream",
          "text": [
            "Iris target names: ['setosa' 'versicolor' 'virginica']\n",
            "Iris feature names: ['sepal length (cm)', 'sepal width (cm)', 'petal length (cm)', 'petal width (cm)']\n"
          ],
          "name": "stdout"
        }
      ]
    },
    {
      "cell_type": "code",
      "metadata": {
        "id": "qYGmpTKLMU6k",
        "colab_type": "code",
        "outputId": "8572fc59-2d45-4b68-f07b-2d8a7fcccc38",
        "colab": {
          "base_uri": "https://localhost:8080/",
          "height": 34
        }
      },
      "source": [
        "len(X), len(train_data), len(test_data)"
      ],
      "execution_count": 0,
      "outputs": [
        {
          "output_type": "execute_result",
          "data": {
            "text/plain": [
              "(150, 100, 50)"
            ]
          },
          "metadata": {
            "tags": []
          },
          "execution_count": 3
        }
      ]
    },
    {
      "cell_type": "code",
      "metadata": {
        "id": "Sk6eWiK7MYwb",
        "colab_type": "code",
        "outputId": "a1dafacb-5a7d-44c7-b67e-9531d9754612",
        "colab": {
          "base_uri": "https://localhost:8080/",
          "height": 721
        }
      },
      "source": [
        "# we're actually loading the data set twice here \n",
        "# ignore this cell, other than the visualizaiton \n",
        "# seaborn has the data structured nicely for their viz\n",
        "# so the labels in the legend display correctly\n",
        "import seaborn as sns; sns.set(style=\"ticks\", color_codes=True)\n",
        "iris_sns = sns.load_dataset(\"iris\")\n",
        "g = sns.pairplot(iris_sns, hue=\"species\")"
      ],
      "execution_count": 0,
      "outputs": [
        {
          "output_type": "display_data",
          "data": {
            "image/png": "[encoded data removed]",
            "text/plain": [
              "<Figure size 813.85x720 with 20 Axes>"
            ]
          },
          "metadata": {
            "tags": []
          }
        }
      ]
    },
    {
      "cell_type": "markdown",
      "metadata": {
        "id": "aLuXOuudMw8H",
        "colab_type": "text"
      },
      "source": [
        "## Feature engineering\n",
        "To make things simple, let's binarize these feature values. That is, we'll treat each measurement as either \"short\" or \"long\". I'm just going to choose a threshold for each feature."
      ]
    },
    {
      "cell_type": "code",
      "metadata": {
        "id": "5dAshu4KMmTi",
        "colab_type": "code",
        "colab": {}
      },
      "source": [
        "# Define a function that applies a threshold to turn real valued iris features into 0/1 features.\n",
        "# 0 will mean \"short\" and 1 will mean \"long\".\n",
        "def binarize_iris(data, thresholds=[6.0, 3.0, 2.5, 1.0]):\n",
        "    # Initialize a new feature array with the same shape as the original data.\n",
        "    binarized_data = np.zeros(data.shape)\n",
        "\n",
        "    # Apply a threshold  to each feature.\n",
        "    for feature in range(data.shape[1]):\n",
        "        binarized_data[:,feature] = data[:,feature] > thresholds[feature]\n",
        "    return binarized_data\n",
        "\n",
        "# Create new binarized training and test data\n",
        "binarized_train_data = binarize_iris(train_data)\n",
        "binarized_test_data = binarize_iris(test_data)\n",
        "\n",
        "# Remember\n",
        "#       target index     0          1            2\n",
        "# Iris target names: ['setosa' 'versicolor' 'virginica']\n",
        "\n",
        "#      feature index            0                  1                     2                   3\n",
        "# Iris feature names: ['sepal length (cm)', 'sepal width (cm)', 'petal length (cm)', 'petal width (cm)']"
      ],
      "execution_count": 0,
      "outputs": []
    },
    {
      "cell_type": "code",
      "metadata": {
        "id": "6yaZsidNMuUC",
        "colab_type": "code",
        "outputId": "3932bd37-5a77-48a6-f4fa-36e6c4b3e1ff",
        "colab": {
          "base_uri": "https://localhost:8080/",
          "height": 34
        }
      },
      "source": [
        "len(binarized_train_data), len(binarized_test_data)"
      ],
      "execution_count": 0,
      "outputs": [
        {
          "output_type": "execute_result",
          "data": {
            "text/plain": [
              "(100, 50)"
            ]
          },
          "metadata": {
            "tags": []
          },
          "execution_count": 6
        }
      ]
    },
    {
      "cell_type": "code",
      "metadata": {
        "id": "gS-byUPfM6SU",
        "colab_type": "code",
        "outputId": "9bfb4719-2c4f-4ac7-b575-f6624d20cbb1",
        "colab": {
          "base_uri": "https://localhost:8080/",
          "height": 102
        }
      },
      "source": [
        "binarized_train_data[:5]\n",
        "\n",
        "#      feature index            0                  1                     2                   3\n",
        "# Iris feature names: ['sepal length (cm)', 'sepal width (cm)', 'petal length (cm)', 'petal width (cm)']"
      ],
      "execution_count": 0,
      "outputs": [
        {
          "output_type": "execute_result",
          "data": {
            "text/plain": [
              "array([[0., 0., 1., 1.],\n",
              "       [0., 0., 1., 0.],\n",
              "       [0., 1., 0., 0.],\n",
              "       [1., 0., 1., 1.],\n",
              "       [0., 1., 0., 0.]])"
            ]
          },
          "metadata": {
            "tags": []
          },
          "execution_count": 7
        }
      ]
    },
    {
      "cell_type": "markdown",
      "metadata": {
        "id": "ZCwjdGLeNFDl",
        "colab_type": "text"
      },
      "source": [
        "Recall that Naive Bayes assumes conditional independence of features. With $Y$ the set of labels and $X$ the set of features ($y$ is a specific label and $x$ is a specific feature), Naive Bayes gives the probability of a label $y$ given input features $X$ as:\n",
        "\n",
        "$ \\displaystyle P(y|X) \\approx \n",
        "  \\frac { P(y) \\prod_{x \\in X} P(x|y) }\n",
        "        { \\sum_{y \\in Y} P(y) \\prod_{x \\in X} P(x|y) }\n",
        "$\n",
        "\n",
        "Let's estimate some of these probabilities using maximum likelihood, which is just a matter of counting and normalizing. We'll start with the prior probability of the label $P(y)$."
      ]
    },
    {
      "cell_type": "code",
      "metadata": {
        "id": "aabB8uDKM-Zo",
        "colab_type": "code",
        "outputId": "1f2100e9-76ac-4dd1-d74f-4d48be5e8141",
        "colab": {
          "base_uri": "https://localhost:8080/",
          "height": 68
        }
      },
      "source": [
        "# Initialize counters for all labels to zero.\n",
        "label_counts = [0 for i in iris.target_names]\n",
        "\n",
        "# Iterate over labels in the training data and update counts.\n",
        "for label in train_labels:\n",
        "    label_counts[label] += 1\n",
        "\n",
        "# Normalize counts to get a probability distribution.\n",
        "total = sum(label_counts)\n",
        "\n",
        "label_probs = [1.0 * count / total for count in label_counts]\n",
        "for (prob, name) in zip(label_probs, iris.target_names):\n",
        "    print ('%15s : %.2f' %(name, prob))"
      ],
      "execution_count": 0,
      "outputs": [
        {
          "output_type": "stream",
          "text": [
            "         setosa : 0.31\n",
            "     versicolor : 0.33\n",
            "      virginica : 0.36\n"
          ],
          "name": "stdout"
        }
      ]
    },
    {
      "cell_type": "markdown",
      "metadata": {
        "id": "ydEc5X6QN-nK",
        "colab_type": "text"
      },
      "source": [
        "Next, let's estimate $P(X|Y)$, that is, the probability of each feature given each label. Remember that we can get the conditional probability from the joint distribution:\n",
        "\n",
        "$\\displaystyle P(X|Y) = \\frac{ P(X,Y) } { P(Y) } \\approx \\frac{ \\textrm{Count}(X,Y) } { \\textrm{Count}(Y) }$\n",
        "\n",
        "Let's think carefully about the size of the count matrix we need to collect. There are 3 labels $y_1$, $y_2$, and $y_3$ and 4 features $x_0$, $x_1$, $x_2$, and $x_3$. Each feature has 2 possible values, 0 or 1. So there are actually $4 \\times 2 \\times 3=24$ probabilities we need to estimate:\n",
        "\n",
        "\n",
        "$P(x_0=0, Y=y_0)$\n",
        "\n",
        "$P(x_0=1, Y=y_0)$\n",
        "\n",
        "$P(x_1=0, Y=y_0)$\n",
        "\n",
        "$P(x_1=1, Y=y_0)$\n",
        "\n",
        "...\n",
        "\n",
        "However, we already estimated (above) the probability of each label. And, we know that each feature value is either 0 (short) or 1 (long. So, for example,\n",
        "\n",
        "\n",
        "$P(x_{sepal\\_len}=short, Y=\\textrm{setosa}) + P(x_{sepal\\_len}=long, Y=\\textrm{setosa}) $\n",
        "\n",
        "$= P(Y=\\textrm{setosa}) $\n",
        "\n",
        "$\\approx 0.31$. \n",
        "\n",
        "As a result, we can just estimate probabilities for one of the feature values, say, $x_{sepal\\_len} = short$. This requires a $4 \\times 3$ matrix."
      ]
    },
    {
      "cell_type": "code",
      "metadata": {
        "id": "F4WGhiSRND7Z",
        "colab_type": "code",
        "outputId": "28c5d371-07d9-4f2f-acac-5160ed77e4a4",
        "colab": {
          "base_uri": "https://localhost:8080/",
          "height": 374
        }
      },
      "source": [
        "# Initialize a matrix for joint counts of feature=0 and label.\n",
        "feature0_and_label_counts = np.zeros([len(iris.feature_names), len(iris.target_names)])\n",
        "\n",
        "# Just to check our work, let's also keep track of joint counts of feature=1 and label.\n",
        "feature1_and_label_counts = np.zeros([len(iris.feature_names), len(iris.target_names)])\n",
        "\n",
        "# for each training example\n",
        "for i in range(binarized_train_data.shape[0]):\n",
        "    \n",
        "    # get what kind of iris it actually is (the label)\n",
        "    # this will be a number between 0 and 2\n",
        "    #       target index     0          1            2\n",
        "    # Iris target names: ['setosa' 'versicolor' 'virginica']\n",
        "    label = train_labels[i] \n",
        "    \n",
        "    # get a vector of feature values\n",
        "    # this will be a list of four values (one for each feature)\n",
        "    # that are either 0 (short) or 1 (long)\n",
        "    #      feature index            0                  1                     2                   3\n",
        "    # Iris feature names: ['sepal length (cm)', 'sepal width (cm)', 'petal length (cm)', 'petal width (cm)']\n",
        "    features = binarized_train_data[i]\n",
        "    \n",
        "    # for each pair of (feature, true flower type), count how many instances there are\n",
        "    # for instance, count all setosas with short sepal width\n",
        "    for feature_index, feature_value in enumerate(features):\n",
        "        feature0_and_label_counts[feature_index][label] += (feature_value == 0)\n",
        "        feature1_and_label_counts[feature_index][label] += (feature_value == 1)\n",
        "\n",
        "# Let's look at the counts.\n",
        "print(\"Rows are features: \\n['sepal length (cm)', 'sepal width (cm)', 'petal length (cm)', 'petal width (cm)']\\n\")\n",
        "print(\"Columns are flower types: \\n['setosa' 'versicolor' 'virginica']\\n\")\n",
        "print(\"****************\")\n",
        "print ('Feature = short:\\n', feature0_and_label_counts)\n",
        "print ('\\nFeature = long:\\n', feature1_and_label_counts)\n",
        "\n",
        "# As a sanity check/, what should the total sum of all counts be?\n",
        "# We have 100 training examples, each with 4 features. So we should have counted 400 things.\n",
        "total_sum = feature0_and_label_counts.sum() + feature1_and_label_counts.sum()\n",
        "print ('\\nTotal count:', total_sum)\n",
        "\n",
        "# As another sanity check, the label probabilities should be equal to the normalized feature counts for each label.\n",
        "print ('Label probabilities:', (feature0_and_label_counts.sum(0) + feature1_and_label_counts.sum(0)) / total_sum)"
      ],
      "execution_count": 0,
      "outputs": [
        {
          "output_type": "stream",
          "text": [
            "Rows are features: \n",
            "['sepal length (cm)', 'sepal width (cm)', 'petal length (cm)', 'petal width (cm)']\n",
            "\n",
            "Columns are flower types: \n",
            "['setosa' 'versicolor' 'virginica']\n",
            "\n",
            "****************\n",
            "Feature = short:\n",
            " [[31. 20.  7.]\n",
            " [ 6. 27. 25.]\n",
            " [31.  0.  0.]\n",
            " [31.  3.  0.]]\n",
            "\n",
            "Feature = long:\n",
            " [[ 0. 13. 29.]\n",
            " [25.  6. 11.]\n",
            " [ 0. 33. 36.]\n",
            " [ 0. 30. 36.]]\n",
            "\n",
            "Total count: 400.0\n",
            "Label probabilities: [0.31 0.33 0.36]\n"
          ],
          "name": "stdout"
        }
      ]
    },
    {
      "cell_type": "markdown",
      "metadata": {
        "id": "Ktp6eNpCU_L2",
        "colab_type": "text"
      },
      "source": [
        "## Normalization\n",
        "We still need to normalize the joint counts to get probabilities."
      ]
    },
    {
      "cell_type": "code",
      "metadata": {
        "id": "aTkO0deUOdSU",
        "colab_type": "code",
        "outputId": "ae39a0fe-bf47-47c8-fcd0-bc9bf74f4bed",
        "colab": {
          "base_uri": "https://localhost:8080/",
          "height": 425
        }
      },
      "source": [
        "print(\"Rows are features: \\n['sepal length (cm)', 'sepal width (cm)', 'petal length (cm)', 'petal width (cm)']\\n\")\n",
        "print(\"Columns are flower types: \\n['setosa' 'versicolor' 'virginica']\\n\")\n",
        "print(\"****************\")\n",
        "\n",
        "# Initialize new matrices to hold conditional probabilities.\n",
        "feature0_given_label = np.zeros(feature0_and_label_counts.shape)\n",
        "feature1_given_label = np.zeros(feature1_and_label_counts.shape)\n",
        "\n",
        "# P(feature|label) = P(feature, label) / P(label) =~ count(feature, label) / count(label).\n",
        "# Note that we could do this normalization more efficiently with array operations, but for the sake of clarity,\n",
        "# let's iterate over each label and each feature.\n",
        "for label in range(feature0_and_label_counts.shape[1]):\n",
        "    for feature in range(feature0_and_label_counts.shape[0]):\n",
        "        feature0_given_label[feature,label] = feature0_and_label_counts[feature,label] / label_counts[label]\n",
        "        feature1_given_label[feature,label] = feature1_and_label_counts[feature,label] / label_counts[label]\n",
        "\n",
        "# Here's our estimated conditional probability table.\n",
        "print ('Estimated values of P(feature=short|label):\\n', feature0_given_label, \"\\n\")\n",
        "print ('Estimated values of P(feature=long |label):\\n', feature1_given_label)\n",
        "\n",
        "# As a sanity check, which probabilities should sum to 1?\n",
        "print ('\\nCheck that P(feature=0|label) + P(feature=1|label) = 1\\n',feature0_given_label + feature1_given_label)"
      ],
      "execution_count": 0,
      "outputs": [
        {
          "output_type": "stream",
          "text": [
            "Rows are features: \n",
            "['sepal length (cm)', 'sepal width (cm)', 'petal length (cm)', 'petal width (cm)']\n",
            "\n",
            "Columns are flower types: \n",
            "['setosa' 'versicolor' 'virginica']\n",
            "\n",
            "****************\n",
            "Estimated values of P(feature=short|label):\n",
            " [[1.         0.60606061 0.19444444]\n",
            " [0.19354839 0.81818182 0.69444444]\n",
            " [1.         0.         0.        ]\n",
            " [1.         0.09090909 0.        ]] \n",
            "\n",
            "Estimated values of P(feature=long |label):\n",
            " [[0.         0.39393939 0.80555556]\n",
            " [0.80645161 0.18181818 0.30555556]\n",
            " [0.         1.         1.        ]\n",
            " [0.         0.90909091 1.        ]]\n",
            "\n",
            "Check that P(feature=0|label) + P(feature=1|label) = 1\n",
            " [[1. 1. 1.]\n",
            " [1. 1. 1.]\n",
            " [1. 1. 1.]\n",
            " [1. 1. 1.]]\n"
          ],
          "name": "stdout"
        }
      ]
    },
    {
      "cell_type": "markdown",
      "metadata": {
        "id": "_nEkR1_pVoR0",
        "colab_type": "text"
      },
      "source": [
        "## Prediction\n",
        "Now that we have all the pieces, let's try making a prediction for the first test example. It looks like this is a setosa (label 0) example with all small measurements -- all the feature values are 0.\n",
        "\n",
        "We start by assuming the prior distribution, which has a slight preference for virginica, followed by versicolor. Of course, these estimates come from our training data, which might not be a representative sample. In practice, we may prefer to use a uniform prior."
      ]
    },
    {
      "cell_type": "code",
      "metadata": {
        "id": "SHtD9C8zVC_V",
        "colab_type": "code",
        "outputId": "6a940aeb-d91a-4641-cba0-bdf6aa52fffa",
        "colab": {
          "base_uri": "https://localhost:8080/",
          "height": 136
        }
      },
      "source": [
        "print(\"Features:  ['sepal length (cm)', 'sepal width (cm)', 'petal length (cm)', 'petal width (cm)']\")\n",
        "print(\"Labels  :  ['setosa' 'versicolor' 'virginica']\\n\")\n",
        "print(\"****************\")\n",
        "\n",
        "# What does the feature vector look like? And what's the true label?\n",
        "index = 0\n",
        "print ('Feature vector:', binarized_test_data[index])\n",
        "print ('Label:', test_labels[index])\n",
        "\n",
        "# Start with the prior distribution over labels.\n",
        "predictions = label_probs\n",
        "print ('Prior:', predictions)"
      ],
      "execution_count": 0,
      "outputs": [
        {
          "output_type": "stream",
          "text": [
            "Features:  ['sepal length (cm)', 'sepal width (cm)', 'petal length (cm)', 'petal width (cm)']\n",
            "Labels  :  ['setosa' 'versicolor' 'virginica']\n",
            "\n",
            "****************\n",
            "Feature vector: [0. 0. 0. 0.]\n",
            "Label: 0\n",
            "Prior: [0.31, 0.33, 0.36]\n"
          ],
          "name": "stdout"
        }
      ]
    },
    {
      "cell_type": "markdown",
      "metadata": {
        "id": "3qTcNQnAWGie",
        "colab_type": "text"
      },
      "source": [
        "With Naive Bayes, we start with the most basic evidence and update our belief aboutu the world as new evidence comes in. To start, we know only that what we're looking at is an iris. So we check what we know about irises and see that 31% of them are setosas, 33% are versicolors, and 36% are virginicas. If we were forced to make a guess here, we would guess this \"new\" iris is a virginica, because that's the most likely\n",
        "\n",
        "Note that this is based solely on our training data set and not anything else. You can see how more training data helps here\n",
        "\n",
        "Can we do better?"
      ]
    },
    {
      "cell_type": "code",
      "metadata": {
        "id": "JA7EkvBuVvvw",
        "colab_type": "code",
        "outputId": "13908e49-c642-4877-d79a-609f32a63c8b",
        "colab": {
          "base_uri": "https://localhost:8080/",
          "height": 34
        }
      },
      "source": [
        "# Let's include the first feature (sepal length is short). We use feature0_given_label since the feature value is 0.\n",
        "predictions *= feature0_given_label[0]\n",
        "\n",
        "# We could wait until we've multiplied by all the feature probabilities, but there's no harm in normalizing after each update.\n",
        "predictions /= predictions.sum()\n",
        "print ('After observing sepal length:', predictions)"
      ],
      "execution_count": 0,
      "outputs": [
        {
          "output_type": "stream",
          "text": [
            "After observing sepal length: [0.53448276 0.34482759 0.12068966]\n"
          ],
          "name": "stdout"
        }
      ]
    },
    {
      "cell_type": "markdown",
      "metadata": {
        "id": "MdezNt2HXi8j",
        "colab_type": "text"
      },
      "source": [
        "We now tell the model that we have an iris **with short petals**. The model checks and updates the probabilities. Of the training set examples with short petals, 69% were setosas, 27% were versicolors, and 3% were virginicas. If the model were forced to guess now, it would guess setosa\n",
        "\n",
        "Let's include the remaining observations (it has short sepal  width, short petal length, and short petal width)"
      ]
    },
    {
      "cell_type": "code",
      "metadata": {
        "id": "Bjq3QeOsXfmK",
        "colab_type": "code",
        "outputId": "ce76b16d-6de1-4880-d489-39fa6f4ac73f",
        "colab": {
          "base_uri": "https://localhost:8080/",
          "height": 85
        }
      },
      "source": [
        "print ('After observing sepal length:                           ', predictions)\n",
        "\n",
        "# Include the remaining features.\n",
        "predictions *= feature0_given_label[1] # short sepal width\n",
        "predictions /= predictions.sum()\n",
        "print(\"After observing sepal length and width                  \", predictions)\n",
        "predictions *= feature0_given_label[2] # short petal length\n",
        "predictions /= predictions.sum()\n",
        "print(\"After observing sepal length and width, and petal length\", predictions)\n",
        "predictions *= feature0_given_label[3] # short petal width\n",
        "\n",
        "# We could wait until we've multiplied by all the feature probabilities, but there's no harm in normalizing after each update.\n",
        "predictions /= predictions.sum()\n",
        "print( 'After observing all features:                           ', predictions)"
      ],
      "execution_count": 0,
      "outputs": [
        {
          "output_type": "stream",
          "text": [
            "After observing sepal length:                            [0.53448276 0.34482759 0.12068966]\n",
            "After observing sepal length and width                   [0.22038772 0.60105742 0.17855487]\n",
            "After observing sepal length and width, and petal length [1. 0. 0.]\n",
            "After observing all features:                            [1. 0. 0.]\n"
          ],
          "name": "stdout"
        }
      ]
    },
    {
      "cell_type": "markdown",
      "metadata": {
        "id": "L3ccIJC6YgBN",
        "colab_type": "text"
      },
      "source": [
        "What happened?\n",
        "\n",
        "Well, it looks like Naive Bayes came up with the right answer. But it seems overconfident!\n",
        "\n",
        "Let's look again at our conditional probability estimates for the features. Notice that there are a bunch of zero probabilities. This is bad because as soon as we multiply anything by zero, we're guaranteed that our final estimate will be zero. This is an overly harsh penalty for an observation that simply never occurred in our training data. Surely there's some possibility, even if very small, that there could exist a setosa with a long sepal.\n",
        "\n",
        "This is where smoothing comes in. The maximum likelihood estimate is only optimal in the case where we have infinite training data. When we have less than that, we need to temper maximum likelihood by reserving some small probability for unseen events. The simplest way to do this is with Laplace smoothing -- rather than starting with a count of 0 for each joint (feature, label) observation, we start with a count of $\\alpha$.\n",
        "\n",
        "Let's package training and inference into a class, modeled after sklearn's BernoulliNB."
      ]
    },
    {
      "cell_type": "markdown",
      "metadata": {
        "id": "YUEQr2ohY1tp",
        "colab_type": "text"
      },
      "source": [
        "## Predictions with Laplace smoothing (adding alpha)"
      ]
    },
    {
      "cell_type": "code",
      "metadata": {
        "id": "0kpP91iUXTVl",
        "colab_type": "code",
        "colab": {}
      },
      "source": [
        "class NaiveBayes:\n",
        "    # Initialize an instance of the class.\n",
        "    def __init__(self, alpha=1.0):\n",
        "        self.alpha = alpha     # additive (Laplace) smoothing parameter\n",
        "        self.priors = None     # estimated by fit()\n",
        "        self.probs = None      # estimated by fit()\n",
        "        self.num_labels = 0    # set by fit()\n",
        "        self.num_features = 0  # set by fit()\n",
        "        \n",
        "    def fit(self, train_data, train_labels):\n",
        "        # Store number of labels, number of features, and number training examples.\n",
        "        self.num_labels = len(np.unique(train_labels))\n",
        "        self.num_features = train_data.shape[1]\n",
        "        self.num_examples = train_data.shape[0]\n",
        "        \n",
        "        # Initialize an array of label counts. Each label gets a smoothed count of 2*alpha because\n",
        "        # each feature value (0 and 1) gets an extra count of alpha.\n",
        "        label_counts = np.ones(self.num_labels) * self.alpha * 2\n",
        "\n",
        "        # Initialize an array of (feature=1, label) counts to alpha.\n",
        "        feature0_and_label_counts = np.ones([self.num_features, self.num_labels]) * self.alpha\n",
        "        \n",
        "        # Count features with value == 1.\n",
        "        for i in range(self.num_examples):\n",
        "            label = train_labels[i]\n",
        "            label_counts[label] += 1\n",
        "            for feature_index, feature_value in enumerate(train_data[i]):\n",
        "                feature0_and_label_counts[feature_index][label] += (feature_value == 1)\n",
        "\n",
        "        # Normalize to get probabilities P(feature=1|label).\n",
        "        self.probs = feature0_and_label_counts / label_counts\n",
        "        \n",
        "        # Normalize label counts to get prior probabilities P(label).\n",
        "        self.priors = label_counts / label_counts.sum()\n",
        "\n",
        "    # Make predictions for each test example and return results.\n",
        "    def predict(self, test_data):\n",
        "        results = []\n",
        "        for item in test_data:\n",
        "            results.append(self._predict_item(item))\n",
        "        return np.array(results)\n",
        "    \n",
        "    # Private function for making a single prediction.\n",
        "    def _predict_item(self, item):\n",
        "        # Make a copy of the prior probabilities.\n",
        "        predictions = self.priors.copy()\n",
        "        \n",
        "        # Multiply by each conditional feature probability.\n",
        "        for (index, value) in enumerate(item):\n",
        "            feature_probs = self.probs[index]\n",
        "            if not value: feature_probs = 1 - feature_probs\n",
        "            predictions *= feature_probs\n",
        "\n",
        "        # Normalize and return the label that gives the largest probability.\n",
        "        predictions /= predictions.sum()\n",
        "        return predictions.argmax()"
      ],
      "execution_count": 0,
      "outputs": []
    },
    {
      "cell_type": "markdown",
      "metadata": {
        "id": "_pEIZg0cY0JR",
        "colab_type": "text"
      },
      "source": [
        "Now we can compare our implementation with the sklearn implementation. Do the predictions agree? What about the estimated parameters? Try changing alpha from 0 to 1."
      ]
    },
    {
      "cell_type": "code",
      "metadata": {
        "id": "v8wUB_qfYxDQ",
        "colab_type": "code",
        "outputId": "6ea6b9c2-d9ae-44f5-e5bf-14db38345ef4",
        "colab": {
          "base_uri": "https://localhost:8080/",
          "height": 374
        }
      },
      "source": [
        "alpha = 1\n",
        "nb = NaiveBayes(alpha=alpha)\n",
        "nb.fit(binarized_train_data, train_labels)\n",
        "\n",
        "# Compute accuracy on the test data.\n",
        "preds = nb.predict(binarized_test_data)\n",
        "correct, total = 0, 0\n",
        "for pred, label in zip(preds, test_labels):\n",
        "    if pred == label: correct += 1\n",
        "    total += 1\n",
        "print( 'With alpha = %.2f' %alpha)\n",
        "print ('[OUR implementation] total: %3d  correct: %3d  accuracy: %3.2f' %(total, correct, 1.0*correct/total))\n",
        "\n",
        "# Compare to sklearn's implementation.\n",
        "clf = BernoulliNB(alpha=alpha)\n",
        "clf.fit(binarized_train_data, train_labels)\n",
        "print ('sklearn accuracy: %3.2f' %clf.score(binarized_test_data, test_labels))\n",
        "\n",
        "print ('\\nOur feature probabilities\\n', nb.probs)\n",
        "print ('\\nsklearn feature probabilities\\n', np.exp(clf.feature_log_prob_).T)\n",
        "\n",
        "print ('\\nOur prior probabilities\\n', nb.priors)\n",
        "print ('\\nsklearn prior probabilities\\n', np.exp(clf.class_log_prior_))"
      ],
      "execution_count": 0,
      "outputs": [
        {
          "output_type": "stream",
          "text": [
            "With alpha = 1.00\n",
            "[OUR implementation] total:  50  correct:  41  accuracy: 0.82\n",
            "sklearn accuracy: 0.82\n",
            "\n",
            "Our feature probabilities\n",
            " [[0.03030303 0.4        0.78947368]\n",
            " [0.78787879 0.2        0.31578947]\n",
            " [0.03030303 0.97142857 0.97368421]\n",
            " [0.03030303 0.88571429 0.97368421]]\n",
            "\n",
            "sklearn feature probabilities\n",
            " [[0.03030303 0.4        0.78947368]\n",
            " [0.78787879 0.2        0.31578947]\n",
            " [0.03030303 0.97142857 0.97368421]\n",
            " [0.03030303 0.88571429 0.97368421]]\n",
            "\n",
            "Our prior probabilities\n",
            " [0.31132075 0.33018868 0.35849057]\n",
            "\n",
            "sklearn prior probabilities\n",
            " [0.31 0.33 0.36]\n"
          ],
          "name": "stdout"
        }
      ]
    },
    {
      "cell_type": "markdown",
      "metadata": {
        "id": "jBNd8LEFZvln",
        "colab_type": "text"
      },
      "source": [
        "## Bonus example - naive Bayes with text\n",
        "Taken from https://monkeylearn.com/blog/practical-explanation-naive-bayes-classifier/"
      ]
    },
    {
      "cell_type": "code",
      "metadata": {
        "id": "0F3UjIK3Y6kg",
        "colab_type": "code",
        "outputId": "33cf3bd7-4d24-4945-aa65-507a29163687",
        "colab": {
          "base_uri": "https://localhost:8080/",
          "height": 204
        }
      },
      "source": [
        "# read in a data file that represents sport and non-sports sentences\n",
        "sports_url = \"https://gist.githubusercontent.com/peterg889/198aa5adc4d2022a5042df351c531276/raw/97d9b442c6bab81521a3e51fa645235113ddaff6/sports.csv\"\n",
        "df_sentences = pd.read_csv(sports_url)\n",
        "df_sentences"
      ],
      "execution_count": 0,
      "outputs": [
        {
          "output_type": "execute_result",
          "data": {
            "text/html": [
              "<div>\n",
              "<style scoped>\n",
              "    .dataframe tbody tr th:only-of-type {\n",
              "        vertical-align: middle;\n",
              "    }\n",
              "\n",
              "    .dataframe tbody tr th {\n",
              "        vertical-align: top;\n",
              "    }\n",
              "\n",
              "    .dataframe thead th {\n",
              "        text-align: right;\n",
              "    }\n",
              "</style>\n",
              "<table border=\"1\" class=\"dataframe\">\n",
              "  <thead>\n",
              "    <tr style=\"text-align: right;\">\n",
              "      <th></th>\n",
              "      <th>Text</th>\n",
              "      <th>Category</th>\n",
              "    </tr>\n",
              "  </thead>\n",
              "  <tbody>\n",
              "    <tr>\n",
              "      <th>0</th>\n",
              "      <td>A great game</td>\n",
              "      <td>Sports</td>\n",
              "    </tr>\n",
              "    <tr>\n",
              "      <th>1</th>\n",
              "      <td>The election was over</td>\n",
              "      <td>Not sports</td>\n",
              "    </tr>\n",
              "    <tr>\n",
              "      <th>2</th>\n",
              "      <td>Very clean match</td>\n",
              "      <td>Sports</td>\n",
              "    </tr>\n",
              "    <tr>\n",
              "      <th>3</th>\n",
              "      <td>A clean but forgettable game</td>\n",
              "      <td>Sports</td>\n",
              "    </tr>\n",
              "    <tr>\n",
              "      <th>4</th>\n",
              "      <td>It was a close election</td>\n",
              "      <td>Not sports</td>\n",
              "    </tr>\n",
              "  </tbody>\n",
              "</table>\n",
              "</div>"
            ],
            "text/plain": [
              "                           Text    Category\n",
              "0                  A great game      Sports\n",
              "1         The election was over  Not sports\n",
              "2              Very clean match      Sports\n",
              "3  A clean but forgettable game      Sports\n",
              "4       It was a close election  Not sports"
            ]
          },
          "metadata": {
            "tags": []
          },
          "execution_count": 16
        }
      ]
    },
    {
      "cell_type": "code",
      "metadata": {
        "id": "8l-2larqZxWh",
        "colab_type": "code",
        "outputId": "c746540c-b258-4139-c212-c206398b2d74",
        "colab": {
          "base_uri": "https://localhost:8080/",
          "height": 34
        }
      },
      "source": [
        "# novel test example\n",
        "# we want to know if this sentence is a sport or non-sports commemt\n",
        "test_sentence = \"A very close game\"\n",
        "test_words = test_sentence.lower().split()\n",
        "\n",
        "test_words"
      ],
      "execution_count": 0,
      "outputs": [
        {
          "output_type": "execute_result",
          "data": {
            "text/plain": [
              "['a', 'very', 'close', 'game']"
            ]
          },
          "metadata": {
            "tags": []
          },
          "execution_count": 17
        }
      ]
    },
    {
      "cell_type": "markdown",
      "metadata": {
        "id": "eAq_w8V8tRmt",
        "colab_type": "text"
      },
      "source": [
        "## \"Naive\" Bayes\n",
        "So here comes the Naive part: we assume that every word in a sentence is independent of the other ones. This means that we’re no longer looking at entire sentences, but rather at individual words. So for our purposes, “this was a fun party” is the same as “this party was fun” and “party fun was this”."
      ]
    },
    {
      "cell_type": "code",
      "metadata": {
        "id": "qvnP7V72Z2gQ",
        "colab_type": "code",
        "outputId": "af9fc24f-e365-487f-8ac1-9c80c66ae745",
        "colab": {
          "base_uri": "https://localhost:8080/",
          "height": 34
        }
      },
      "source": [
        "# number of words\n",
        "total_words = 0\n",
        "for ii,rr in df_sentences.iterrows():\n",
        "    total_words +=  len(rr.Text.split())\n",
        "\n",
        "print(\"Total words (including duplicates):\",total_words)"
      ],
      "execution_count": 0,
      "outputs": [
        {
          "output_type": "stream",
          "text": [
            "Total words (including duplicates): 20\n"
          ],
          "name": "stdout"
        }
      ]
    },
    {
      "cell_type": "code",
      "metadata": {
        "id": "tbipJ5CJaCpq",
        "colab_type": "code",
        "outputId": "d6855da8-c5a9-4ecb-b7ce-50666e7e580c",
        "colab": {
          "base_uri": "https://localhost:8080/",
          "height": 669
        }
      },
      "source": [
        "# get a data frame of just words \n",
        "# number of word\n",
        "total_words = 0\n",
        "df_words = pd.DataFrame()\n",
        "\n",
        "# this approach is similar to a 'map' phase in mapreduce\n",
        "for ii,rr in df_sentences.iterrows():\n",
        "    words =  rr.Text.lower().split()\n",
        "    for w in words:\n",
        "        dd = { \"word\": w, \"Category\": rr.Category, \"count\": 1}\n",
        "        df_words = df_words.append(dd, ignore_index=True)\n",
        "df_words"
      ],
      "execution_count": 0,
      "outputs": [
        {
          "output_type": "execute_result",
          "data": {
            "text/html": [
              "<div>\n",
              "<style scoped>\n",
              "    .dataframe tbody tr th:only-of-type {\n",
              "        vertical-align: middle;\n",
              "    }\n",
              "\n",
              "    .dataframe tbody tr th {\n",
              "        vertical-align: top;\n",
              "    }\n",
              "\n",
              "    .dataframe thead th {\n",
              "        text-align: right;\n",
              "    }\n",
              "</style>\n",
              "<table border=\"1\" class=\"dataframe\">\n",
              "  <thead>\n",
              "    <tr style=\"text-align: right;\">\n",
              "      <th></th>\n",
              "      <th>Category</th>\n",
              "      <th>count</th>\n",
              "      <th>word</th>\n",
              "    </tr>\n",
              "  </thead>\n",
              "  <tbody>\n",
              "    <tr>\n",
              "      <th>0</th>\n",
              "      <td>Sports</td>\n",
              "      <td>1.0</td>\n",
              "      <td>a</td>\n",
              "    </tr>\n",
              "    <tr>\n",
              "      <th>1</th>\n",
              "      <td>Sports</td>\n",
              "      <td>1.0</td>\n",
              "      <td>great</td>\n",
              "    </tr>\n",
              "    <tr>\n",
              "      <th>2</th>\n",
              "      <td>Sports</td>\n",
              "      <td>1.0</td>\n",
              "      <td>game</td>\n",
              "    </tr>\n",
              "    <tr>\n",
              "      <th>3</th>\n",
              "      <td>Not sports</td>\n",
              "      <td>1.0</td>\n",
              "      <td>the</td>\n",
              "    </tr>\n",
              "    <tr>\n",
              "      <th>4</th>\n",
              "      <td>Not sports</td>\n",
              "      <td>1.0</td>\n",
              "      <td>election</td>\n",
              "    </tr>\n",
              "    <tr>\n",
              "      <th>5</th>\n",
              "      <td>Not sports</td>\n",
              "      <td>1.0</td>\n",
              "      <td>was</td>\n",
              "    </tr>\n",
              "    <tr>\n",
              "      <th>6</th>\n",
              "      <td>Not sports</td>\n",
              "      <td>1.0</td>\n",
              "      <td>over</td>\n",
              "    </tr>\n",
              "    <tr>\n",
              "      <th>7</th>\n",
              "      <td>Sports</td>\n",
              "      <td>1.0</td>\n",
              "      <td>very</td>\n",
              "    </tr>\n",
              "    <tr>\n",
              "      <th>8</th>\n",
              "      <td>Sports</td>\n",
              "      <td>1.0</td>\n",
              "      <td>clean</td>\n",
              "    </tr>\n",
              "    <tr>\n",
              "      <th>9</th>\n",
              "      <td>Sports</td>\n",
              "      <td>1.0</td>\n",
              "      <td>match</td>\n",
              "    </tr>\n",
              "    <tr>\n",
              "      <th>10</th>\n",
              "      <td>Sports</td>\n",
              "      <td>1.0</td>\n",
              "      <td>a</td>\n",
              "    </tr>\n",
              "    <tr>\n",
              "      <th>11</th>\n",
              "      <td>Sports</td>\n",
              "      <td>1.0</td>\n",
              "      <td>clean</td>\n",
              "    </tr>\n",
              "    <tr>\n",
              "      <th>12</th>\n",
              "      <td>Sports</td>\n",
              "      <td>1.0</td>\n",
              "      <td>but</td>\n",
              "    </tr>\n",
              "    <tr>\n",
              "      <th>13</th>\n",
              "      <td>Sports</td>\n",
              "      <td>1.0</td>\n",
              "      <td>forgettable</td>\n",
              "    </tr>\n",
              "    <tr>\n",
              "      <th>14</th>\n",
              "      <td>Sports</td>\n",
              "      <td>1.0</td>\n",
              "      <td>game</td>\n",
              "    </tr>\n",
              "    <tr>\n",
              "      <th>15</th>\n",
              "      <td>Not sports</td>\n",
              "      <td>1.0</td>\n",
              "      <td>it</td>\n",
              "    </tr>\n",
              "    <tr>\n",
              "      <th>16</th>\n",
              "      <td>Not sports</td>\n",
              "      <td>1.0</td>\n",
              "      <td>was</td>\n",
              "    </tr>\n",
              "    <tr>\n",
              "      <th>17</th>\n",
              "      <td>Not sports</td>\n",
              "      <td>1.0</td>\n",
              "      <td>a</td>\n",
              "    </tr>\n",
              "    <tr>\n",
              "      <th>18</th>\n",
              "      <td>Not sports</td>\n",
              "      <td>1.0</td>\n",
              "      <td>close</td>\n",
              "    </tr>\n",
              "    <tr>\n",
              "      <th>19</th>\n",
              "      <td>Not sports</td>\n",
              "      <td>1.0</td>\n",
              "      <td>election</td>\n",
              "    </tr>\n",
              "  </tbody>\n",
              "</table>\n",
              "</div>"
            ],
            "text/plain": [
              "      Category  count         word\n",
              "0       Sports    1.0            a\n",
              "1       Sports    1.0        great\n",
              "2       Sports    1.0         game\n",
              "3   Not sports    1.0          the\n",
              "4   Not sports    1.0     election\n",
              "5   Not sports    1.0          was\n",
              "6   Not sports    1.0         over\n",
              "7       Sports    1.0         very\n",
              "8       Sports    1.0        clean\n",
              "9       Sports    1.0        match\n",
              "10      Sports    1.0            a\n",
              "11      Sports    1.0        clean\n",
              "12      Sports    1.0          but\n",
              "13      Sports    1.0  forgettable\n",
              "14      Sports    1.0         game\n",
              "15  Not sports    1.0           it\n",
              "16  Not sports    1.0          was\n",
              "17  Not sports    1.0            a\n",
              "18  Not sports    1.0        close\n",
              "19  Not sports    1.0     election"
            ]
          },
          "metadata": {
            "tags": []
          },
          "execution_count": 19
        }
      ]
    },
    {
      "cell_type": "code",
      "metadata": {
        "id": "EOj-U1FpaKvZ",
        "colab_type": "code",
        "outputId": "22b801e7-5f1c-4bb9-e371-d4fb5d39004e",
        "colab": {
          "base_uri": "https://localhost:8080/",
          "height": 514
        }
      },
      "source": [
        "# count how many times each word appears\n",
        "\n",
        "# this is similar to a 'reduce'\n",
        "df_words_sum = df_words.pivot_table(index='word', values='count', columns='Category', aggfunc=sum, fill_value=0 )\n",
        "df_words_sum"
      ],
      "execution_count": 0,
      "outputs": [
        {
          "output_type": "execute_result",
          "data": {
            "text/html": [
              "<div>\n",
              "<style scoped>\n",
              "    .dataframe tbody tr th:only-of-type {\n",
              "        vertical-align: middle;\n",
              "    }\n",
              "\n",
              "    .dataframe tbody tr th {\n",
              "        vertical-align: top;\n",
              "    }\n",
              "\n",
              "    .dataframe thead th {\n",
              "        text-align: right;\n",
              "    }\n",
              "</style>\n",
              "<table border=\"1\" class=\"dataframe\">\n",
              "  <thead>\n",
              "    <tr style=\"text-align: right;\">\n",
              "      <th>Category</th>\n",
              "      <th>Not sports</th>\n",
              "      <th>Sports</th>\n",
              "    </tr>\n",
              "    <tr>\n",
              "      <th>word</th>\n",
              "      <th></th>\n",
              "      <th></th>\n",
              "    </tr>\n",
              "  </thead>\n",
              "  <tbody>\n",
              "    <tr>\n",
              "      <th>a</th>\n",
              "      <td>1</td>\n",
              "      <td>2</td>\n",
              "    </tr>\n",
              "    <tr>\n",
              "      <th>but</th>\n",
              "      <td>0</td>\n",
              "      <td>1</td>\n",
              "    </tr>\n",
              "    <tr>\n",
              "      <th>clean</th>\n",
              "      <td>0</td>\n",
              "      <td>2</td>\n",
              "    </tr>\n",
              "    <tr>\n",
              "      <th>close</th>\n",
              "      <td>1</td>\n",
              "      <td>0</td>\n",
              "    </tr>\n",
              "    <tr>\n",
              "      <th>election</th>\n",
              "      <td>2</td>\n",
              "      <td>0</td>\n",
              "    </tr>\n",
              "    <tr>\n",
              "      <th>forgettable</th>\n",
              "      <td>0</td>\n",
              "      <td>1</td>\n",
              "    </tr>\n",
              "    <tr>\n",
              "      <th>game</th>\n",
              "      <td>0</td>\n",
              "      <td>2</td>\n",
              "    </tr>\n",
              "    <tr>\n",
              "      <th>great</th>\n",
              "      <td>0</td>\n",
              "      <td>1</td>\n",
              "    </tr>\n",
              "    <tr>\n",
              "      <th>it</th>\n",
              "      <td>1</td>\n",
              "      <td>0</td>\n",
              "    </tr>\n",
              "    <tr>\n",
              "      <th>match</th>\n",
              "      <td>0</td>\n",
              "      <td>1</td>\n",
              "    </tr>\n",
              "    <tr>\n",
              "      <th>over</th>\n",
              "      <td>1</td>\n",
              "      <td>0</td>\n",
              "    </tr>\n",
              "    <tr>\n",
              "      <th>the</th>\n",
              "      <td>1</td>\n",
              "      <td>0</td>\n",
              "    </tr>\n",
              "    <tr>\n",
              "      <th>very</th>\n",
              "      <td>0</td>\n",
              "      <td>1</td>\n",
              "    </tr>\n",
              "    <tr>\n",
              "      <th>was</th>\n",
              "      <td>2</td>\n",
              "      <td>0</td>\n",
              "    </tr>\n",
              "  </tbody>\n",
              "</table>\n",
              "</div>"
            ],
            "text/plain": [
              "Category     Not sports  Sports\n",
              "word                           \n",
              "a                     1       2\n",
              "but                   0       1\n",
              "clean                 0       2\n",
              "close                 1       0\n",
              "election              2       0\n",
              "forgettable           0       1\n",
              "game                  0       2\n",
              "great                 0       1\n",
              "it                    1       0\n",
              "match                 0       1\n",
              "over                  1       0\n",
              "the                   1       0\n",
              "very                  0       1\n",
              "was                   2       0"
            ]
          },
          "metadata": {
            "tags": []
          },
          "execution_count": 20
        }
      ]
    },
    {
      "cell_type": "code",
      "metadata": {
        "id": "onhgiKApaZ_I",
        "colab_type": "code",
        "outputId": "bf78c605-9953-442b-ebab-97ddc52df47c",
        "colab": {
          "base_uri": "https://localhost:8080/",
          "height": 85
        }
      },
      "source": [
        "# number of words in each category (we need this sum to normalize)\n",
        "df_category_sum = df_words_sum.sum()\n",
        "df_category_sum"
      ],
      "execution_count": 0,
      "outputs": [
        {
          "output_type": "execute_result",
          "data": {
            "text/plain": [
              "Category\n",
              "Not sports     9\n",
              "Sports        11\n",
              "dtype: int64"
            ]
          },
          "metadata": {
            "tags": []
          },
          "execution_count": 21
        }
      ]
    },
    {
      "cell_type": "code",
      "metadata": {
        "id": "BYiOsa6PaeoR",
        "colab_type": "code",
        "outputId": "f312e9e3-2dd5-426c-dcb7-378e399bc571",
        "colab": {
          "base_uri": "https://localhost:8080/",
          "height": 204
        }
      },
      "source": [
        "# get conditional probabilities \n",
        "test_filter = df_words_sum.index.isin(test_words)\n",
        "df_words_sum[test_filter] / df_category_sum"
      ],
      "execution_count": 0,
      "outputs": [
        {
          "output_type": "execute_result",
          "data": {
            "text/html": [
              "<div>\n",
              "<style scoped>\n",
              "    .dataframe tbody tr th:only-of-type {\n",
              "        vertical-align: middle;\n",
              "    }\n",
              "\n",
              "    .dataframe tbody tr th {\n",
              "        vertical-align: top;\n",
              "    }\n",
              "\n",
              "    .dataframe thead th {\n",
              "        text-align: right;\n",
              "    }\n",
              "</style>\n",
              "<table border=\"1\" class=\"dataframe\">\n",
              "  <thead>\n",
              "    <tr style=\"text-align: right;\">\n",
              "      <th>Category</th>\n",
              "      <th>Not sports</th>\n",
              "      <th>Sports</th>\n",
              "    </tr>\n",
              "    <tr>\n",
              "      <th>word</th>\n",
              "      <th></th>\n",
              "      <th></th>\n",
              "    </tr>\n",
              "  </thead>\n",
              "  <tbody>\n",
              "    <tr>\n",
              "      <th>a</th>\n",
              "      <td>0.111111</td>\n",
              "      <td>0.181818</td>\n",
              "    </tr>\n",
              "    <tr>\n",
              "      <th>close</th>\n",
              "      <td>0.111111</td>\n",
              "      <td>0.000000</td>\n",
              "    </tr>\n",
              "    <tr>\n",
              "      <th>game</th>\n",
              "      <td>0.000000</td>\n",
              "      <td>0.181818</td>\n",
              "    </tr>\n",
              "    <tr>\n",
              "      <th>very</th>\n",
              "      <td>0.000000</td>\n",
              "      <td>0.090909</td>\n",
              "    </tr>\n",
              "  </tbody>\n",
              "</table>\n",
              "</div>"
            ],
            "text/plain": [
              "Category  Not sports    Sports\n",
              "word                          \n",
              "a           0.111111  0.181818\n",
              "close       0.111111  0.000000\n",
              "game        0.000000  0.181818\n",
              "very        0.000000  0.090909"
            ]
          },
          "metadata": {
            "tags": []
          },
          "execution_count": 22
        }
      ]
    },
    {
      "cell_type": "code",
      "metadata": {
        "id": "Vhs1kHcfakOj",
        "colab_type": "code",
        "outputId": "4fecb08d-c9ff-49c9-c65e-c2c658636557",
        "colab": {
          "base_uri": "https://localhost:8080/",
          "height": 514
        }
      },
      "source": [
        "# note that \"close\" never appears in a sports sentence, which would\n",
        "# prevent the model from ever predicting \"sports\" for a sentence that \n",
        "# contained the word \"close\". we can use Laplace (add one) smoothing\n",
        "# to help avoid this problem\n",
        "\n",
        "df_words_sum2 = df_words_sum + 1\n",
        "df_words_sum2"
      ],
      "execution_count": 0,
      "outputs": [
        {
          "output_type": "execute_result",
          "data": {
            "text/html": [
              "<div>\n",
              "<style scoped>\n",
              "    .dataframe tbody tr th:only-of-type {\n",
              "        vertical-align: middle;\n",
              "    }\n",
              "\n",
              "    .dataframe tbody tr th {\n",
              "        vertical-align: top;\n",
              "    }\n",
              "\n",
              "    .dataframe thead th {\n",
              "        text-align: right;\n",
              "    }\n",
              "</style>\n",
              "<table border=\"1\" class=\"dataframe\">\n",
              "  <thead>\n",
              "    <tr style=\"text-align: right;\">\n",
              "      <th>Category</th>\n",
              "      <th>Not sports</th>\n",
              "      <th>Sports</th>\n",
              "    </tr>\n",
              "    <tr>\n",
              "      <th>word</th>\n",
              "      <th></th>\n",
              "      <th></th>\n",
              "    </tr>\n",
              "  </thead>\n",
              "  <tbody>\n",
              "    <tr>\n",
              "      <th>a</th>\n",
              "      <td>2</td>\n",
              "      <td>3</td>\n",
              "    </tr>\n",
              "    <tr>\n",
              "      <th>but</th>\n",
              "      <td>1</td>\n",
              "      <td>2</td>\n",
              "    </tr>\n",
              "    <tr>\n",
              "      <th>clean</th>\n",
              "      <td>1</td>\n",
              "      <td>3</td>\n",
              "    </tr>\n",
              "    <tr>\n",
              "      <th>close</th>\n",
              "      <td>2</td>\n",
              "      <td>1</td>\n",
              "    </tr>\n",
              "    <tr>\n",
              "      <th>election</th>\n",
              "      <td>3</td>\n",
              "      <td>1</td>\n",
              "    </tr>\n",
              "    <tr>\n",
              "      <th>forgettable</th>\n",
              "      <td>1</td>\n",
              "      <td>2</td>\n",
              "    </tr>\n",
              "    <tr>\n",
              "      <th>game</th>\n",
              "      <td>1</td>\n",
              "      <td>3</td>\n",
              "    </tr>\n",
              "    <tr>\n",
              "      <th>great</th>\n",
              "      <td>1</td>\n",
              "      <td>2</td>\n",
              "    </tr>\n",
              "    <tr>\n",
              "      <th>it</th>\n",
              "      <td>2</td>\n",
              "      <td>1</td>\n",
              "    </tr>\n",
              "    <tr>\n",
              "      <th>match</th>\n",
              "      <td>1</td>\n",
              "      <td>2</td>\n",
              "    </tr>\n",
              "    <tr>\n",
              "      <th>over</th>\n",
              "      <td>2</td>\n",
              "      <td>1</td>\n",
              "    </tr>\n",
              "    <tr>\n",
              "      <th>the</th>\n",
              "      <td>2</td>\n",
              "      <td>1</td>\n",
              "    </tr>\n",
              "    <tr>\n",
              "      <th>very</th>\n",
              "      <td>1</td>\n",
              "      <td>2</td>\n",
              "    </tr>\n",
              "    <tr>\n",
              "      <th>was</th>\n",
              "      <td>3</td>\n",
              "      <td>1</td>\n",
              "    </tr>\n",
              "  </tbody>\n",
              "</table>\n",
              "</div>"
            ],
            "text/plain": [
              "Category     Not sports  Sports\n",
              "word                           \n",
              "a                     2       3\n",
              "but                   1       2\n",
              "clean                 1       3\n",
              "close                 2       1\n",
              "election              3       1\n",
              "forgettable           1       2\n",
              "game                  1       3\n",
              "great                 1       2\n",
              "it                    2       1\n",
              "match                 1       2\n",
              "over                  2       1\n",
              "the                   2       1\n",
              "very                  1       2\n",
              "was                   3       1"
            ]
          },
          "metadata": {
            "tags": []
          },
          "execution_count": 23
        }
      ]
    },
    {
      "cell_type": "code",
      "metadata": {
        "id": "7C9PNhHoavmx",
        "colab_type": "code",
        "outputId": "fd22c1a1-d456-4f09-8e81-e33d84b11877",
        "colab": {
          "base_uri": "https://localhost:8080/",
          "height": 85
        }
      },
      "source": [
        "df_category_sum2 = df_words_sum2.sum()\n",
        "df_category_sum2"
      ],
      "execution_count": 0,
      "outputs": [
        {
          "output_type": "execute_result",
          "data": {
            "text/plain": [
              "Category\n",
              "Not sports    23\n",
              "Sports        25\n",
              "dtype: int64"
            ]
          },
          "metadata": {
            "tags": []
          },
          "execution_count": 24
        }
      ]
    },
    {
      "cell_type": "code",
      "metadata": {
        "id": "zIOAIT0Paxqy",
        "colab_type": "code",
        "outputId": "b3d73a2d-7745-4180-c3ac-a5d489668ae6",
        "colab": {
          "base_uri": "https://localhost:8080/",
          "height": 204
        }
      },
      "source": [
        "test_filter = df_words_sum2.index.isin(test_words)\n",
        "df_probability2 = df_words_sum2[test_filter] / df_category_sum2\n",
        "df_probability2\n"
      ],
      "execution_count": 0,
      "outputs": [
        {
          "output_type": "execute_result",
          "data": {
            "text/html": [
              "<div>\n",
              "<style scoped>\n",
              "    .dataframe tbody tr th:only-of-type {\n",
              "        vertical-align: middle;\n",
              "    }\n",
              "\n",
              "    .dataframe tbody tr th {\n",
              "        vertical-align: top;\n",
              "    }\n",
              "\n",
              "    .dataframe thead th {\n",
              "        text-align: right;\n",
              "    }\n",
              "</style>\n",
              "<table border=\"1\" class=\"dataframe\">\n",
              "  <thead>\n",
              "    <tr style=\"text-align: right;\">\n",
              "      <th>Category</th>\n",
              "      <th>Not sports</th>\n",
              "      <th>Sports</th>\n",
              "    </tr>\n",
              "    <tr>\n",
              "      <th>word</th>\n",
              "      <th></th>\n",
              "      <th></th>\n",
              "    </tr>\n",
              "  </thead>\n",
              "  <tbody>\n",
              "    <tr>\n",
              "      <th>a</th>\n",
              "      <td>0.086957</td>\n",
              "      <td>0.12</td>\n",
              "    </tr>\n",
              "    <tr>\n",
              "      <th>close</th>\n",
              "      <td>0.086957</td>\n",
              "      <td>0.04</td>\n",
              "    </tr>\n",
              "    <tr>\n",
              "      <th>game</th>\n",
              "      <td>0.043478</td>\n",
              "      <td>0.12</td>\n",
              "    </tr>\n",
              "    <tr>\n",
              "      <th>very</th>\n",
              "      <td>0.043478</td>\n",
              "      <td>0.08</td>\n",
              "    </tr>\n",
              "  </tbody>\n",
              "</table>\n",
              "</div>"
            ],
            "text/plain": [
              "Category  Not sports  Sports\n",
              "word                        \n",
              "a           0.086957    0.12\n",
              "close       0.086957    0.04\n",
              "game        0.043478    0.12\n",
              "very        0.043478    0.08"
            ]
          },
          "metadata": {
            "tags": []
          },
          "execution_count": 25
        }
      ]
    },
    {
      "cell_type": "code",
      "metadata": {
        "id": "7-YvEFbiazVH",
        "colab_type": "code",
        "outputId": "23e18d5e-cf31-42e4-83e3-747f5b424bdb",
        "colab": {
          "base_uri": "https://localhost:8080/",
          "height": 238
        }
      },
      "source": [
        "num_sports     = len(df_sentences[df_sentences.Category == \"Sports\"])\n",
        "num_non_sports = len(df_sentences[df_sentences.Category == \"Not sports\"])\n",
        "\n",
        "\n",
        "# set initial probabilities\n",
        "sports     = num_sports     / ( num_sports + num_non_sports)\n",
        "non_sports = num_non_sports / ( num_sports + num_non_sports)\n",
        "\n",
        "\n",
        "print(\"baseline probs       p(sports) *|*\", sports, \" p(not sports)      *|*\", non_sports,\"\\n\")\n",
        "\n",
        "# need to multiply all the probabilities to see which one is the highest\n",
        "for ii,rr in df_probability2.iterrows():\n",
        "    print(\"word:\",ii, \"\\tp(word|sports) *|*\", rr[\"Sports\"], \"p(word|not sports) *|*\", rr[\"Not sports\"], \"\\n\")\n",
        "    sports *= rr['Sports']\n",
        "    non_sports *= rr['Not sports']\n",
        "    \n",
        "print(\"\\n\\np(sports|sentence)\", sports, \"*|* p(not sports|sentence)\", non_sports)"
      ],
      "execution_count": 0,
      "outputs": [
        {
          "output_type": "stream",
          "text": [
            "baseline probs       p(sports) *|* 0.6  p(not sports)      *|* 0.4 \n",
            "\n",
            "word: a \tp(word|sports) *|* 0.12 p(word|not sports) *|* 0.08695652173913043 \n",
            "\n",
            "word: close \tp(word|sports) *|* 0.04 p(word|not sports) *|* 0.08695652173913043 \n",
            "\n",
            "word: game \tp(word|sports) *|* 0.12 p(word|not sports) *|* 0.043478260869565216 \n",
            "\n",
            "word: very \tp(word|sports) *|* 0.08 p(word|not sports) *|* 0.043478260869565216 \n",
            "\n",
            "\n",
            "\n",
            "p(sports|sentence) 2.7647999999999997e-05 *|* p(not sports|sentence) 5.7175324559303314e-06\n"
          ],
          "name": "stdout"
        }
      ]
    },
    {
      "cell_type": "code",
      "metadata": {
        "id": "Da3Cf48za5C7",
        "colab_type": "code",
        "outputId": "7384bf4b-bcfd-42fe-da6e-e97f321ad812",
        "colab": {
          "base_uri": "https://localhost:8080/",
          "height": 34
        }
      },
      "source": [
        "# normalize relative probabilities\n",
        "sports /(sports + non_sports), non_sports /(sports + non_sports), "
      ],
      "execution_count": 0,
      "outputs": [
        {
          "output_type": "execute_result",
          "data": {
            "text/plain": [
              "(0.8286395560004286, 0.1713604439995714)"
            ]
          },
          "metadata": {
            "tags": []
          },
          "execution_count": 27
        }
      ]
    },
    {
      "cell_type": "code",
      "metadata": {
        "id": "RgSMTEDTz49N",
        "colab_type": "code",
        "colab": {}
      },
      "source": [
        "# so we see that NB guesses this is a sport sentence!!"
      ],
      "execution_count": 0,
      "outputs": []
    },
    {
      "cell_type": "code",
      "metadata": {
        "id": "_JdnZx1R1qef",
        "colab_type": "code",
        "colab": {}
      },
      "source": [
        ""
      ],
      "execution_count": 0,
      "outputs": []
    }
  ]
}