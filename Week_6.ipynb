{
  "nbformat": 4,
  "nbformat_minor": 0,
  "metadata": {
    "colab": {
      "name": "Week 6",
      "provenance": [],
      "collapsed_sections": [],
      "include_colab_link": true
    },
    "kernelspec": {
      "name": "python3",
      "display_name": "Python 3"
    }
  },
  "cells": [
    {
      "cell_type": "markdown",
      "metadata": {
        "id": "view-in-github",
        "colab_type": "text"
      },
      "source": [
        "<a href=\"https://colab.research.google.com/github/dougfletcher10/W207/blob/master/Week_6.ipynb\" target=\"_parent\"><img src=\"https://colab.research.google.com/assets/colab-badge.svg\" alt=\"Open In Colab\"/></a>"
      ]
    },
    {
      "cell_type": "markdown",
      "metadata": {
        "id": "9IDskwlbankF",
        "colab_type": "text"
      },
      "source": [
        "## Basic Gradient Descent"
      ]
    },
    {
      "cell_type": "code",
      "metadata": {
        "id": "2CoCWf-Qamwg",
        "colab_type": "code",
        "colab": {}
      },
      "source": [
        "import pandas\n",
        "import statsmodels.api as sm\n",
        "import numpy as np\n",
        "import matplotlib.pyplot as plt\n",
        "\n",
        "%matplotlib inline"
      ],
      "execution_count": null,
      "outputs": []
    },
    {
      "cell_type": "code",
      "metadata": {
        "id": "bzBd7Xa8atzE",
        "colab_type": "code",
        "colab": {
          "base_uri": "https://localhost:8080/",
          "height": 235
        },
        "outputId": "2f0fb2dc-d272-44e5-a156-a7647a2eb0ed"
      },
      "source": [
        "\n",
        "df = pandas.read_csv(\"https://gist.githubusercontent.com/peterg889/910bdb3672a9845c5ee9e2da52f978c8/raw/dfbc59df949f78428613d8772ab3e1b68f6127e7/vehicle_sale_data.csv\")\n",
        "df"
      ],
      "execution_count": null,
      "outputs": [
        {
          "output_type": "execute_result",
          "data": {
            "text/html": [
              "<div>\n",
              "<style scoped>\n",
              "    .dataframe tbody tr th:only-of-type {\n",
              "        vertical-align: middle;\n",
              "    }\n",
              "\n",
              "    .dataframe tbody tr th {\n",
              "        vertical-align: top;\n",
              "    }\n",
              "\n",
              "    .dataframe thead th {\n",
              "        text-align: right;\n",
              "    }\n",
              "</style>\n",
              "<table border=\"1\" class=\"dataframe\">\n",
              "  <thead>\n",
              "    <tr style=\"text-align: right;\">\n",
              "      <th></th>\n",
              "      <th>year</th>\n",
              "      <th>GDP</th>\n",
              "      <th>sales</th>\n",
              "    </tr>\n",
              "  </thead>\n",
              "  <tbody>\n",
              "    <tr>\n",
              "      <th>0</th>\n",
              "      <td>2011</td>\n",
              "      <td>6.20</td>\n",
              "      <td>26.30</td>\n",
              "    </tr>\n",
              "    <tr>\n",
              "      <th>1</th>\n",
              "      <td>2012</td>\n",
              "      <td>6.50</td>\n",
              "      <td>26.65</td>\n",
              "    </tr>\n",
              "    <tr>\n",
              "      <th>2</th>\n",
              "      <td>2013</td>\n",
              "      <td>5.48</td>\n",
              "      <td>25.03</td>\n",
              "    </tr>\n",
              "    <tr>\n",
              "      <th>3</th>\n",
              "      <td>2014</td>\n",
              "      <td>6.54</td>\n",
              "      <td>26.01</td>\n",
              "    </tr>\n",
              "    <tr>\n",
              "      <th>4</th>\n",
              "      <td>2015</td>\n",
              "      <td>7.18</td>\n",
              "      <td>27.90</td>\n",
              "    </tr>\n",
              "    <tr>\n",
              "      <th>5</th>\n",
              "      <td>2016</td>\n",
              "      <td>7.93</td>\n",
              "      <td>30.47</td>\n",
              "    </tr>\n",
              "  </tbody>\n",
              "</table>\n",
              "</div>"
            ],
            "text/plain": [
              "   year   GDP  sales\n",
              "0  2011  6.20  26.30\n",
              "1  2012  6.50  26.65\n",
              "2  2013  5.48  25.03\n",
              "3  2014  6.54  26.01\n",
              "4  2015  7.18  27.90\n",
              "5  2016  7.93  30.47"
            ]
          },
          "metadata": {
            "tags": []
          },
          "execution_count": 2
        }
      ]
    },
    {
      "cell_type": "code",
      "metadata": {
        "id": "N6043rhCbAgv",
        "colab_type": "code",
        "colab": {
          "base_uri": "https://localhost:8080/",
          "height": 279
        },
        "outputId": "919e0daa-d6ae-4f74-8d38-9760adf438c5"
      },
      "source": [
        "_ = df.plot(x='GDP', y='sales', kind='scatter')"
      ],
      "execution_count": null,
      "outputs": [
        {
          "output_type": "display_data",
          "data": {
            "image/png": "[encoded data removed]",
            "text/plain": [
              "<Figure size 432x288 with 1 Axes>"
            ]
          },
          "metadata": {
            "tags": []
          }
        }
      ]
    },
    {
      "cell_type": "markdown",
      "metadata": {
        "id": "wnakQi7abHDN",
        "colab_type": "text"
      },
      "source": [
        "## Regression using OLS\n",
        "The OLS method is based on linear algebra and matrix inversions"
      ]
    },
    {
      "cell_type": "code",
      "metadata": {
        "id": "yZDMG29KbDIP",
        "colab_type": "code",
        "colab": {
          "base_uri": "https://localhost:8080/",
          "height": 477
        },
        "outputId": "914d6883-d6e6-4846-ba77-c8b75be5a6f7"
      },
      "source": [
        "# use OLS to find best fit line\n",
        "X = df.GDP\n",
        "model = sm.OLS(df.sales, X).fit()\n",
        "\n",
        "# summarize our model\n",
        "summary = model.summary()\n",
        "summary"
      ],
      "execution_count": null,
      "outputs": [
        {
          "output_type": "stream",
          "text": [
            "/usr/local/lib/python3.6/dist-packages/statsmodels/stats/stattools.py:71: ValueWarning: omni_normtest is not valid with less than 8 observations; 6 samples were given.\n",
            "  \"samples were given.\" % int(n), ValueWarning)\n"
          ],
          "name": "stderr"
        },
        {
          "output_type": "execute_result",
          "data": {
            "text/html": [
              "<table class=\"simpletable\">\n",
              "<caption>OLS Regression Results</caption>\n",
              "<tr>\n",
              "  <th>Dep. Variable:</th>          <td>sales</td>      <th>  R-squared (uncentered):</th>      <td>   0.997</td>\n",
              "</tr>\n",
              "<tr>\n",
              "  <th>Model:</th>                   <td>OLS</td>       <th>  Adj. R-squared (uncentered):</th> <td>   0.996</td>\n",
              "</tr>\n",
              "<tr>\n",
              "  <th>Method:</th>             <td>Least Squares</td>  <th>  F-statistic:       </th>          <td>   1583.</td>\n",
              "</tr>\n",
              "<tr>\n",
              "  <th>Date:</th>             <td>Thu, 13 Feb 2020</td> <th>  Prob (F-statistic):</th>          <td>1.89e-07</td>\n",
              "</tr>\n",
              "<tr>\n",
              "  <th>Time:</th>                 <td>00:55:43</td>     <th>  Log-Likelihood:    </th>          <td> -11.032</td>\n",
              "</tr>\n",
              "<tr>\n",
              "  <th>No. Observations:</th>      <td>     6</td>      <th>  AIC:               </th>          <td>   24.06</td>\n",
              "</tr>\n",
              "<tr>\n",
              "  <th>Df Residuals:</th>          <td>     5</td>      <th>  BIC:               </th>          <td>   23.86</td>\n",
              "</tr>\n",
              "<tr>\n",
              "  <th>Df Model:</th>              <td>     1</td>      <th>                     </th>              <td> </td>   \n",
              "</tr>\n",
              "<tr>\n",
              "  <th>Covariance Type:</th>      <td>nonrobust</td>    <th>                     </th>              <td> </td>   \n",
              "</tr>\n",
              "</table>\n",
              "<table class=\"simpletable\">\n",
              "<tr>\n",
              "   <td></td>      <th>coef</th>     <th>std err</th>      <th>t</th>      <th>P>|t|</th>  <th>[0.025</th>    <th>0.975]</th>  \n",
              "</tr>\n",
              "<tr>\n",
              "  <th>GDP</th> <td>    4.0515</td> <td>    0.102</td> <td>   39.785</td> <td> 0.000</td> <td>    3.790</td> <td>    4.313</td>\n",
              "</tr>\n",
              "</table>\n",
              "<table class=\"simpletable\">\n",
              "<tr>\n",
              "  <th>Omnibus:</th>       <td>   nan</td> <th>  Durbin-Watson:     </th> <td>   1.350</td>\n",
              "</tr>\n",
              "<tr>\n",
              "  <th>Prob(Omnibus):</th> <td>   nan</td> <th>  Jarque-Bera (JB):  </th> <td>   0.489</td>\n",
              "</tr>\n",
              "<tr>\n",
              "  <th>Skew:</th>          <td> 0.535</td> <th>  Prob(JB):          </th> <td>   0.783</td>\n",
              "</tr>\n",
              "<tr>\n",
              "  <th>Kurtosis:</th>      <td> 2.099</td> <th>  Cond. No.          </th> <td>    1.00</td>\n",
              "</tr>\n",
              "</table><br/><br/>Warnings:<br/>[1] Standard Errors assume that the covariance matrix of the errors is correctly specified."
            ],
            "text/plain": [
              "<class 'statsmodels.iolib.summary.Summary'>\n",
              "\"\"\"\n",
              "                                 OLS Regression Results                                \n",
              "=======================================================================================\n",
              "Dep. Variable:                  sales   R-squared (uncentered):                   0.997\n",
              "Model:                            OLS   Adj. R-squared (uncentered):              0.996\n",
              "Method:                 Least Squares   F-statistic:                              1583.\n",
              "Date:                Thu, 13 Feb 2020   Prob (F-statistic):                    1.89e-07\n",
              "Time:                        00:55:43   Log-Likelihood:                         -11.032\n",
              "No. Observations:                   6   AIC:                                      24.06\n",
              "Df Residuals:                       5   BIC:                                      23.86\n",
              "Df Model:                           1                                                  \n",
              "Covariance Type:            nonrobust                                                  \n",
              "==============================================================================\n",
              "                 coef    std err          t      P>|t|      [0.025      0.975]\n",
              "------------------------------------------------------------------------------\n",
              "GDP            4.0515      0.102     39.785      0.000       3.790       4.313\n",
              "==============================================================================\n",
              "Omnibus:                          nan   Durbin-Watson:                   1.350\n",
              "Prob(Omnibus):                    nan   Jarque-Bera (JB):                0.489\n",
              "Skew:                           0.535   Prob(JB):                        0.783\n",
              "Kurtosis:                       2.099   Cond. No.                         1.00\n",
              "==============================================================================\n",
              "\n",
              "Warnings:\n",
              "[1] Standard Errors assume that the covariance matrix of the errors is correctly specified.\n",
              "\"\"\""
            ]
          },
          "metadata": {
            "tags": []
          },
          "execution_count": 4
        }
      ]
    },
    {
      "cell_type": "code",
      "metadata": {
        "id": "zf8Vw-7CbQh1",
        "colab_type": "code",
        "colab": {
          "base_uri": "https://localhost:8080/",
          "height": 235
        },
        "outputId": "20add1fb-30fc-4e68-cd33-fe44ab66139d"
      },
      "source": [
        "sales_predict = model.predict(X)\n",
        "df['sales_predict'] = sales_predict # add to data frame\n",
        "df"
      ],
      "execution_count": null,
      "outputs": [
        {
          "output_type": "execute_result",
          "data": {
            "text/html": [
              "<div>\n",
              "<style scoped>\n",
              "    .dataframe tbody tr th:only-of-type {\n",
              "        vertical-align: middle;\n",
              "    }\n",
              "\n",
              "    .dataframe tbody tr th {\n",
              "        vertical-align: top;\n",
              "    }\n",
              "\n",
              "    .dataframe thead th {\n",
              "        text-align: right;\n",
              "    }\n",
              "</style>\n",
              "<table border=\"1\" class=\"dataframe\">\n",
              "  <thead>\n",
              "    <tr style=\"text-align: right;\">\n",
              "      <th></th>\n",
              "      <th>year</th>\n",
              "      <th>GDP</th>\n",
              "      <th>sales</th>\n",
              "      <th>sales_predict</th>\n",
              "    </tr>\n",
              "  </thead>\n",
              "  <tbody>\n",
              "    <tr>\n",
              "      <th>0</th>\n",
              "      <td>2011</td>\n",
              "      <td>6.20</td>\n",
              "      <td>26.30</td>\n",
              "      <td>25.119030</td>\n",
              "    </tr>\n",
              "    <tr>\n",
              "      <th>1</th>\n",
              "      <td>2012</td>\n",
              "      <td>6.50</td>\n",
              "      <td>26.65</td>\n",
              "      <td>26.334467</td>\n",
              "    </tr>\n",
              "    <tr>\n",
              "      <th>2</th>\n",
              "      <td>2013</td>\n",
              "      <td>5.48</td>\n",
              "      <td>25.03</td>\n",
              "      <td>22.201982</td>\n",
              "    </tr>\n",
              "    <tr>\n",
              "      <th>3</th>\n",
              "      <td>2014</td>\n",
              "      <td>6.54</td>\n",
              "      <td>26.01</td>\n",
              "      <td>26.496525</td>\n",
              "    </tr>\n",
              "    <tr>\n",
              "      <th>4</th>\n",
              "      <td>2015</td>\n",
              "      <td>7.18</td>\n",
              "      <td>27.90</td>\n",
              "      <td>29.089458</td>\n",
              "    </tr>\n",
              "    <tr>\n",
              "      <th>5</th>\n",
              "      <td>2016</td>\n",
              "      <td>7.93</td>\n",
              "      <td>30.47</td>\n",
              "      <td>32.128050</td>\n",
              "    </tr>\n",
              "  </tbody>\n",
              "</table>\n",
              "</div>"
            ],
            "text/plain": [
              "   year   GDP  sales  sales_predict\n",
              "0  2011  6.20  26.30      25.119030\n",
              "1  2012  6.50  26.65      26.334467\n",
              "2  2013  5.48  25.03      22.201982\n",
              "3  2014  6.54  26.01      26.496525\n",
              "4  2015  7.18  27.90      29.089458\n",
              "5  2016  7.93  30.47      32.128050"
            ]
          },
          "metadata": {
            "tags": []
          },
          "execution_count": 5
        }
      ]
    },
    {
      "cell_type": "code",
      "metadata": {
        "id": "KhQkol4KbS29",
        "colab_type": "code",
        "colab": {
          "base_uri": "https://localhost:8080/",
          "height": 296
        },
        "outputId": "03fccefa-9087-4158-fdf1-9f267546f45d"
      },
      "source": [
        "ax = df.plot(x='GDP', y='sales', kind='scatter')\n",
        "# predicted data\n",
        "df.plot(x='GDP', y='sales_predict', ax=ax, color='green')"
      ],
      "execution_count": null,
      "outputs": [
        {
          "output_type": "execute_result",
          "data": {
            "text/plain": [
              "<matplotlib.axes._subplots.AxesSubplot at 0x7f071954e2b0>"
            ]
          },
          "metadata": {
            "tags": []
          },
          "execution_count": 6
        },
        {
          "output_type": "display_data",
          "data": {
            "image/png": "[encoded data removed]",
            "text/plain": [
              "<Figure size 432x288 with 1 Axes>"
            ]
          },
          "metadata": {
            "tags": []
          }
        }
      ]
    },
    {
      "cell_type": "code",
      "metadata": {
        "id": "Pt9NaVeZbVPF",
        "colab_type": "code",
        "colab": {
          "base_uri": "https://localhost:8080/",
          "height": 153
        },
        "outputId": "52ba61de-e09e-40a3-92c4-76b37adde180"
      },
      "source": [
        "# verify linear equation ... y = mx+b\n",
        "m = model.params['GDP']\n",
        "b = 0\n",
        "print(m) \n",
        "m * df.GDP  + b"
      ],
      "execution_count": null,
      "outputs": [
        {
          "output_type": "stream",
          "text": [
            "4.051456484975701\n"
          ],
          "name": "stdout"
        },
        {
          "output_type": "execute_result",
          "data": {
            "text/plain": [
              "0    25.119030\n",
              "1    26.334467\n",
              "2    22.201982\n",
              "3    26.496525\n",
              "4    29.089458\n",
              "5    32.128050\n",
              "Name: GDP, dtype: float64"
            ]
          },
          "metadata": {
            "tags": []
          },
          "execution_count": 7
        }
      ]
    },
    {
      "cell_type": "code",
      "metadata": {
        "id": "eiJHSPZnbYmb",
        "colab_type": "code",
        "colab": {
          "base_uri": "https://localhost:8080/",
          "height": 532
        },
        "outputId": "a1d0598b-05c5-49f1-f05c-0b9c785fef9d"
      },
      "source": [
        "# try again w/ intercept - not obvious how to do this w/ statsmodels\n",
        "\n",
        "X = sm.add_constant(df.GDP)\n",
        "model = sm.OLS(df.sales, X).fit()\n",
        "\n",
        "sales_predict = model.predict(X)\n",
        "df['sales_predict'] = sales_predict # add to data frame\n",
        "df\n",
        "\n",
        "# summarize our model\n",
        "summary = model.summary()\n",
        "summary"
      ],
      "execution_count": null,
      "outputs": [
        {
          "output_type": "stream",
          "text": [
            "/usr/local/lib/python3.6/dist-packages/numpy/core/fromnumeric.py:2495: FutureWarning: Method .ptp is deprecated and will be removed in a future version. Use numpy.ptp instead.\n",
            "  return ptp(axis=axis, out=out, **kwargs)\n",
            "/usr/local/lib/python3.6/dist-packages/statsmodels/stats/stattools.py:71: ValueWarning: omni_normtest is not valid with less than 8 observations; 6 samples were given.\n",
            "  \"samples were given.\" % int(n), ValueWarning)\n"
          ],
          "name": "stderr"
        },
        {
          "output_type": "execute_result",
          "data": {
            "text/html": [
              "<table class=\"simpletable\">\n",
              "<caption>OLS Regression Results</caption>\n",
              "<tr>\n",
              "  <th>Dep. Variable:</th>          <td>sales</td>      <th>  R-squared:         </th> <td>   0.920</td>\n",
              "</tr>\n",
              "<tr>\n",
              "  <th>Model:</th>                   <td>OLS</td>       <th>  Adj. R-squared:    </th> <td>   0.900</td>\n",
              "</tr>\n",
              "<tr>\n",
              "  <th>Method:</th>             <td>Least Squares</td>  <th>  F-statistic:       </th> <td>   46.06</td>\n",
              "</tr>\n",
              "<tr>\n",
              "  <th>Date:</th>             <td>Thu, 13 Feb 2020</td> <th>  Prob (F-statistic):</th>  <td>0.00246</td>\n",
              "</tr>\n",
              "<tr>\n",
              "  <th>Time:</th>                 <td>00:55:44</td>     <th>  Log-Likelihood:    </th> <td> -4.2789</td>\n",
              "</tr>\n",
              "<tr>\n",
              "  <th>No. Observations:</th>      <td>     6</td>      <th>  AIC:               </th> <td>   12.56</td>\n",
              "</tr>\n",
              "<tr>\n",
              "  <th>Df Residuals:</th>          <td>     4</td>      <th>  BIC:               </th> <td>   12.14</td>\n",
              "</tr>\n",
              "<tr>\n",
              "  <th>Df Model:</th>              <td>     1</td>      <th>                     </th>     <td> </td>   \n",
              "</tr>\n",
              "<tr>\n",
              "  <th>Covariance Type:</th>      <td>nonrobust</td>    <th>                     </th>     <td> </td>   \n",
              "</tr>\n",
              "</table>\n",
              "<table class=\"simpletable\">\n",
              "<tr>\n",
              "    <td></td>       <th>coef</th>     <th>std err</th>      <th>t</th>      <th>P>|t|</th>  <th>[0.025</th>    <th>0.975]</th>  \n",
              "</tr>\n",
              "<tr>\n",
              "  <th>const</th> <td>   12.5494</td> <td>    2.152</td> <td>    5.831</td> <td> 0.004</td> <td>    6.574</td> <td>   18.525</td>\n",
              "</tr>\n",
              "<tr>\n",
              "  <th>GDP</th>   <td>    2.1859</td> <td>    0.322</td> <td>    6.787</td> <td> 0.002</td> <td>    1.292</td> <td>    3.080</td>\n",
              "</tr>\n",
              "</table>\n",
              "<table class=\"simpletable\">\n",
              "<tr>\n",
              "  <th>Omnibus:</th>       <td>   nan</td> <th>  Durbin-Watson:     </th> <td>   2.297</td>\n",
              "</tr>\n",
              "<tr>\n",
              "  <th>Prob(Omnibus):</th> <td>   nan</td> <th>  Jarque-Bera (JB):  </th> <td>   0.452</td>\n",
              "</tr>\n",
              "<tr>\n",
              "  <th>Skew:</th>          <td>-0.399</td> <th>  Prob(JB):          </th> <td>   0.798</td>\n",
              "</tr>\n",
              "<tr>\n",
              "  <th>Kurtosis:</th>      <td> 1.918</td> <th>  Cond. No.          </th> <td>    59.6</td>\n",
              "</tr>\n",
              "</table><br/><br/>Warnings:<br/>[1] Standard Errors assume that the covariance matrix of the errors is correctly specified."
            ],
            "text/plain": [
              "<class 'statsmodels.iolib.summary.Summary'>\n",
              "\"\"\"\n",
              "                            OLS Regression Results                            \n",
              "==============================================================================\n",
              "Dep. Variable:                  sales   R-squared:                       0.920\n",
              "Model:                            OLS   Adj. R-squared:                  0.900\n",
              "Method:                 Least Squares   F-statistic:                     46.06\n",
              "Date:                Thu, 13 Feb 2020   Prob (F-statistic):            0.00246\n",
              "Time:                        00:55:44   Log-Likelihood:                -4.2789\n",
              "No. Observations:                   6   AIC:                             12.56\n",
              "Df Residuals:                       4   BIC:                             12.14\n",
              "Df Model:                           1                                         \n",
              "Covariance Type:            nonrobust                                         \n",
              "==============================================================================\n",
              "                 coef    std err          t      P>|t|      [0.025      0.975]\n",
              "------------------------------------------------------------------------------\n",
              "const         12.5494      2.152      5.831      0.004       6.574      18.525\n",
              "GDP            2.1859      0.322      6.787      0.002       1.292       3.080\n",
              "==============================================================================\n",
              "Omnibus:                          nan   Durbin-Watson:                   2.297\n",
              "Prob(Omnibus):                    nan   Jarque-Bera (JB):                0.452\n",
              "Skew:                          -0.399   Prob(JB):                        0.798\n",
              "Kurtosis:                       1.918   Cond. No.                         59.6\n",
              "==============================================================================\n",
              "\n",
              "Warnings:\n",
              "[1] Standard Errors assume that the covariance matrix of the errors is correctly specified.\n",
              "\"\"\""
            ]
          },
          "metadata": {
            "tags": []
          },
          "execution_count": 8
        }
      ]
    },
    {
      "cell_type": "code",
      "metadata": {
        "id": "jEMbvSIxbbFP",
        "colab_type": "code",
        "colab": {
          "base_uri": "https://localhost:8080/",
          "height": 415
        },
        "outputId": "60a1cd06-09de-4fc0-cad2-de42a551448c"
      },
      "source": [
        "\n",
        "# verify linear equation ... y = mx+b\n",
        "m = model.params['GDP']\n",
        "b = model.params['const']\n",
        "\n",
        "print (m,b)\n",
        "\n",
        "ax = df.plot(x='GDP', y='sales', kind='scatter')\n",
        "# predicted data\n",
        "df.plot(x='GDP', y='sales_predict', ax=ax, color='green')\n",
        "\n",
        "\n",
        "m * df.GDP  + b"
      ],
      "execution_count": null,
      "outputs": [
        {
          "output_type": "stream",
          "text": [
            "2.1858806728172855 12.549395466947885\n"
          ],
          "name": "stdout"
        },
        {
          "output_type": "execute_result",
          "data": {
            "text/plain": [
              "0    26.101856\n",
              "1    26.757620\n",
              "2    24.528022\n",
              "3    26.845055\n",
              "4    28.244019\n",
              "5    29.883429\n",
              "Name: GDP, dtype: float64"
            ]
          },
          "metadata": {
            "tags": []
          },
          "execution_count": 9
        },
        {
          "output_type": "display_data",
          "data": {
            "image/png": "[encoded data removed]",
            "text/plain": [
              "<Figure size 432x288 with 1 Axes>"
            ]
          },
          "metadata": {
            "tags": []
          }
        }
      ]
    },
    {
      "cell_type": "markdown",
      "metadata": {
        "id": "0NZUkzQobeRZ",
        "colab_type": "text"
      },
      "source": [
        "## Gradient descent to estimate regression parameters\n",
        "General procedure\n",
        "\n",
        "- Define a Cost function\n",
        "- Find the minimum of the Cost function\n",
        "- Find minumum by \"descending down the maximum slope\" until you \"reach the bottom\""
      ]
    },
    {
      "cell_type": "code",
      "metadata": {
        "id": "DodzeqRObnB6",
        "colab_type": "code",
        "colab": {}
      },
      "source": [
        "def cost_function(df, xcol, ycol, m, b):\n",
        "    # just RMSE for now\n",
        "\n",
        "    y_pred = m*df[xcol] + b\n",
        "    return np.sqrt(sum((df[ycol] - y_pred) ** 2))\n",
        "\n",
        "def cost_function_meshgrid(df, xcol, ycol, m, b):\n",
        "    y_pred = 0\n",
        "    cost = 0\n",
        "    for ii,rr in df.iterrows():\n",
        "        y_pred += m*rr[xcol] + b\n",
        "    for ii,rr in df.iterrows():\n",
        "        cost += (rr[ycol] - y_pred) ** 2\n",
        "    \n",
        "    return np.sqrt(cost)"
      ],
      "execution_count": null,
      "outputs": []
    },
    {
      "cell_type": "code",
      "metadata": {
        "id": "j2sKhIOqlIDD",
        "colab_type": "code",
        "colab": {}
      },
      "source": [
        ""
      ],
      "execution_count": null,
      "outputs": []
    },
    {
      "cell_type": "code",
      "metadata": {
        "id": "BgbGrszTbr9O",
        "colab_type": "code",
        "colab": {
          "base_uri": "https://localhost:8080/",
          "height": 265
        },
        "outputId": "3fd052c4-3673-4dc4-971b-d37b4ba1f522"
      },
      "source": [
        "\n",
        "# plot rmse vs different m to verify that OLS gave right answer\n",
        "m_range = np.arange(-10, 10, 1) * m \n",
        "rmse_range = list()\n",
        "for mm in m_range:\n",
        "    rmse_range.append(cost_function(df, 'GDP', 'sales', mm,b))\n",
        "_ = plt.plot(m_range, rmse_range)"
      ],
      "execution_count": null,
      "outputs": [
        {
          "output_type": "display_data",
          "data": {
            "image/png": "[encoded data removed]",
            "text/plain": [
              "<Figure size 432x288 with 1 Axes>"
            ]
          },
          "metadata": {
            "tags": []
          }
        }
      ]
    },
    {
      "cell_type": "code",
      "metadata": {
        "id": "FVBDqwHtbwW-",
        "colab_type": "code",
        "colab": {
          "base_uri": "https://localhost:8080/",
          "height": 248
        },
        "outputId": "c85399b1-8e59-411a-d403-728fe9189751"
      },
      "source": [
        "from mpl_toolkits.mplot3d import Axes3D\n",
        "import matplotlib.pyplot as plt\n",
        "from matplotlib import cm\n",
        "from matplotlib.ticker import LinearLocator, FormatStrFormatter\n",
        "import numpy as np\n",
        "\n",
        "m_range = np.arange(-10, 10, 1) * m / 5.\n",
        "b_range = np.arange(-10, 10, 1) * b / 5.\n",
        "mm, bb = np.meshgrid(m_range, b_range)\n",
        "\n",
        "\n",
        "zz = cost_function_meshgrid(df, 'sales', 'GDP', mm,bb)\n",
        "fig = plt.figure()\n",
        "ax = fig.gca(projection='3d')\n",
        "\n",
        "h = ax.plot_surface(mm,bb,zz, cmap=cm.coolwarm)"
      ],
      "execution_count": null,
      "outputs": [
        {
          "output_type": "display_data",
          "data": {
            "image/png": "[encoded data removed]",
            "text/plain": [
              "<Figure size 432x288 with 1 Axes>"
            ]
          },
          "metadata": {
            "tags": []
          }
        }
      ]
    },
    {
      "cell_type": "code",
      "metadata": {
        "id": "fExby_ZqbzCM",
        "colab_type": "code",
        "colab": {}
      },
      "source": [
        "\n",
        "def compute_error_for_line_given_points(b,m,points):\n",
        "    totalError = 0 \t#sum of square error formula\n",
        "    for i in range (0, len(points)):\n",
        "        x = points[i, 0]\n",
        "        y = points[i, 1]\n",
        "        totalError += (y-(m*x + b)) ** 2\n",
        "    return np.sqrt(totalError)#/ float(len(points))\n",
        "\n",
        "def step_gradient(b_current, m_current, points, learning_rate):\n",
        "\t#gradient descent\n",
        "\tb_gradient = 0\n",
        "\tm_gradient = 0\n",
        "\tN = float(len(points))\n",
        "\tfor i in range(0, len(points)):\n",
        "\t\tx = points[i, 0]\n",
        "\t\ty = points[i, 1]\n",
        "\t\tb_gradient += -(1/N) * (y - (m_current * x + b_current))\n",
        "\t\tm_gradient += -(1/N) * x * (y - (m_current * x + b_current))\n",
        "\tnew_b = b_current - (learning_rate * b_gradient)\n",
        "\tnew_m = m_current - (learning_rate * m_gradient) \n",
        "\treturn [new_b,new_m]"
      ],
      "execution_count": null,
      "outputs": []
    },
    {
      "cell_type": "code",
      "metadata": {
        "id": "Uencsarab0-0",
        "colab_type": "code",
        "colab": {}
      },
      "source": [
        "def gradient_descent_runner(points, starting_b, starting_m, learning_rate, num_iteartions):\n",
        "\tb = starting_b\n",
        "\tm = starting_m\n",
        "\tlast_cost = 1e6\n",
        "\tfor i in range(num_iteartions):\n",
        "\t\tb,m, cost = step_gradient(b, m, np.array(points), learning_rate)\n",
        "\t\tif cost <= last cost:\n",
        "\t\t\t\n",
        "\treturn [b,m]"
      ],
      "execution_count": null,
      "outputs": []
    },
    {
      "cell_type": "code",
      "metadata": {
        "id": "XktK6xhWb25e",
        "colab_type": "code",
        "colab": {}
      },
      "source": [
        "df['ones'] = 1"
      ],
      "execution_count": null,
      "outputs": []
    },
    {
      "cell_type": "code",
      "metadata": {
        "id": "Iy2mt8Odb4lJ",
        "colab_type": "code",
        "colab": {
          "base_uri": "https://localhost:8080/",
          "height": 119
        },
        "outputId": "168c0f78-0575-4a38-88e2-97b338d1bc94"
      },
      "source": [
        "points = df[['GDP', 'sales']].values\n",
        "points"
      ],
      "execution_count": null,
      "outputs": [
        {
          "output_type": "execute_result",
          "data": {
            "text/plain": [
              "array([[ 6.2 , 26.3 ],\n",
              "       [ 6.5 , 26.65],\n",
              "       [ 5.48, 25.03],\n",
              "       [ 6.54, 26.01],\n",
              "       [ 7.18, 27.9 ],\n",
              "       [ 7.93, 30.47]])"
            ]
          },
          "metadata": {
            "tags": []
          },
          "execution_count": 16
        }
      ]
    },
    {
      "cell_type": "code",
      "metadata": {
        "id": "DWkW79d9b7IH",
        "colab_type": "code",
        "colab": {
          "base_uri": "https://localhost:8080/",
          "height": 34
        },
        "outputId": "33402e5b-da68-4209-845b-261cc52a4c36"
      },
      "source": [
        "#points = genfromtxt('data.csv', delimiter=',')\n",
        "\n",
        "\n",
        "learning_rate = 0.02 #how fast the data converge\n",
        "\n",
        "initial_b = 300 # initial y-intercept guess\n",
        "initial_m = -20 # initial slope guess\n",
        "num_iterations = 200000\n",
        "\n",
        "[b, m] = gradient_descent_runner(points, initial_b, initial_m, learning_rate, num_iterations)\n",
        "print(\"After {0} iterations b = {1}, m = {2}, error = {3}\".format(num_iterations, b, m, compute_error_for_line_given_points(b, m, points)))"
      ],
      "execution_count": null,
      "outputs": [
        {
          "output_type": "stream",
          "text": [
            "After 200000 iterations b = 12.549395466951315, m = 2.1858806728167806, error = 1.2093621081166295\n"
          ],
          "name": "stdout"
        }
      ]
    },
    {
      "cell_type": "code",
      "metadata": {
        "id": "At4PuqJFb8FO",
        "colab_type": "code",
        "colab": {
          "base_uri": "https://localhost:8080/",
          "height": 34
        },
        "outputId": "8f54d20d-ebb2-4640-e32c-52a9184a94d7"
      },
      "source": [
        "print(m,b)\n",
        "df['predict_ml'] = m * df.GDP + b"
      ],
      "execution_count": null,
      "outputs": [
        {
          "output_type": "stream",
          "text": [
            "2.1858806728167806 12.549395466951315\n"
          ],
          "name": "stdout"
        }
      ]
    },
    {
      "cell_type": "code",
      "metadata": {
        "id": "YZkyhYpHp3Bp",
        "colab_type": "code",
        "colab": {
          "base_uri": "https://localhost:8080/",
          "height": 235
        },
        "outputId": "64a9d950-315d-44a5-d974-20ee529bc465"
      },
      "source": [
        "df"
      ],
      "execution_count": null,
      "outputs": [
        {
          "output_type": "execute_result",
          "data": {
            "text/html": [
              "<div>\n",
              "<style scoped>\n",
              "    .dataframe tbody tr th:only-of-type {\n",
              "        vertical-align: middle;\n",
              "    }\n",
              "\n",
              "    .dataframe tbody tr th {\n",
              "        vertical-align: top;\n",
              "    }\n",
              "\n",
              "    .dataframe thead th {\n",
              "        text-align: right;\n",
              "    }\n",
              "</style>\n",
              "<table border=\"1\" class=\"dataframe\">\n",
              "  <thead>\n",
              "    <tr style=\"text-align: right;\">\n",
              "      <th></th>\n",
              "      <th>year</th>\n",
              "      <th>GDP</th>\n",
              "      <th>sales</th>\n",
              "      <th>sales_predict</th>\n",
              "      <th>ones</th>\n",
              "      <th>predict_ml</th>\n",
              "    </tr>\n",
              "  </thead>\n",
              "  <tbody>\n",
              "    <tr>\n",
              "      <th>0</th>\n",
              "      <td>2011</td>\n",
              "      <td>6.20</td>\n",
              "      <td>26.30</td>\n",
              "      <td>26.101856</td>\n",
              "      <td>1</td>\n",
              "      <td>26.101856</td>\n",
              "    </tr>\n",
              "    <tr>\n",
              "      <th>1</th>\n",
              "      <td>2012</td>\n",
              "      <td>6.50</td>\n",
              "      <td>26.65</td>\n",
              "      <td>26.757620</td>\n",
              "      <td>1</td>\n",
              "      <td>26.757620</td>\n",
              "    </tr>\n",
              "    <tr>\n",
              "      <th>2</th>\n",
              "      <td>2013</td>\n",
              "      <td>5.48</td>\n",
              "      <td>25.03</td>\n",
              "      <td>24.528022</td>\n",
              "      <td>1</td>\n",
              "      <td>24.528022</td>\n",
              "    </tr>\n",
              "    <tr>\n",
              "      <th>3</th>\n",
              "      <td>2014</td>\n",
              "      <td>6.54</td>\n",
              "      <td>26.01</td>\n",
              "      <td>26.845055</td>\n",
              "      <td>1</td>\n",
              "      <td>26.845055</td>\n",
              "    </tr>\n",
              "    <tr>\n",
              "      <th>4</th>\n",
              "      <td>2015</td>\n",
              "      <td>7.18</td>\n",
              "      <td>27.90</td>\n",
              "      <td>28.244019</td>\n",
              "      <td>1</td>\n",
              "      <td>28.244019</td>\n",
              "    </tr>\n",
              "    <tr>\n",
              "      <th>5</th>\n",
              "      <td>2016</td>\n",
              "      <td>7.93</td>\n",
              "      <td>30.47</td>\n",
              "      <td>29.883429</td>\n",
              "      <td>1</td>\n",
              "      <td>29.883429</td>\n",
              "    </tr>\n",
              "  </tbody>\n",
              "</table>\n",
              "</div>"
            ],
            "text/plain": [
              "   year   GDP  sales  sales_predict  ones  predict_ml\n",
              "0  2011  6.20  26.30      26.101856     1   26.101856\n",
              "1  2012  6.50  26.65      26.757620     1   26.757620\n",
              "2  2013  5.48  25.03      24.528022     1   24.528022\n",
              "3  2014  6.54  26.01      26.845055     1   26.845055\n",
              "4  2015  7.18  27.90      28.244019     1   28.244019\n",
              "5  2016  7.93  30.47      29.883429     1   29.883429"
            ]
          },
          "metadata": {
            "tags": []
          },
          "execution_count": 72
        }
      ]
    },
    {
      "cell_type": "code",
      "metadata": {
        "id": "rBQbeqrRb_vM",
        "colab_type": "code",
        "colab": {
          "base_uri": "https://localhost:8080/",
          "height": 279
        },
        "outputId": "dd5e08e1-efd1-4189-cb08-52881d850b42"
      },
      "source": [
        "\n",
        "ax = df.plot(x='GDP', y='sales', kind='scatter')\n",
        "_ = df.plot(x='GDP', y='sales_predict', ax=ax, color='green') # predicted data\n",
        "_ = df.plot(x='GDP', y='predict_ml', ax=ax, color='red') # predicted data"
      ],
      "execution_count": null,
      "outputs": [
        {
          "output_type": "display_data",
          "data": {
            "image/png": "[encoded data removed]",
            "text/plain": [
              "<Figure size 432x288 with 1 Axes>"
            ]
          },
          "metadata": {
            "tags": []
          }
        }
      ]
    },
    {
      "cell_type": "markdown",
      "metadata": {
        "id": "hPNnkmv5Zc-y",
        "colab_type": "text"
      },
      "source": [
        "## Experiment with Gradient Descent for Linear Regression.\n",
        "\n",
        "Enough irises. Let's use the Boston housing data set and try training some regression models. This notebook features the seaborn package which makes all plots prettier and has some nice built-in features like the correlation plot you'll see below. You'll probably have to install it (ideally with pip)."
      ]
    },
    {
      "cell_type": "code",
      "metadata": {
        "id": "PNILfSKqZSxD",
        "colab_type": "code",
        "colab": {}
      },
      "source": [
        "# This tells matplotlib not to try opening a new window for each plot.\n",
        "%matplotlib inline\n",
        "\n",
        "import pandas\n",
        "import matplotlib.pyplot as plt\n",
        "import seaborn as sns\n",
        "import pandas as pd\n",
        "import numpy as np\n",
        "import time\n",
        "from numpy.linalg import inv\n",
        "from sklearn.datasets import load_boston\n",
        "from sklearn.linear_model import LinearRegression\n",
        "from sklearn import preprocessing\n",
        "\n",
        "\n",
        "np.set_printoptions(precision=4, suppress=True)"
      ],
      "execution_count": null,
      "outputs": []
    },
    {
      "cell_type": "markdown",
      "metadata": {
        "id": "4lq1G8lgZjrt",
        "colab_type": "text"
      },
      "source": [
        "\n",
        "Load the Boston housing data. This data set is pretty out-of-date since it was collected in the 1970s. Each of the 506 entries represents a local district in the Boston area. The standard target variable is the median home value in the district (in 1000s of dollars). Let's print out the description along with a histogram of the target. Notice that the distribution of median value is roughly Gaussian with a significant outlier -- there are around 15 very wealthy districts."
      ]
    },
    {
      "cell_type": "code",
      "metadata": {
        "id": "W-ZRww5QZhx6",
        "colab_type": "code",
        "colab": {
          "base_uri": "https://localhost:8080/",
          "height": 1000
        },
        "outputId": "41be927e-3a77-4c8f-d114-42339e8aab3e"
      },
      "source": [
        "boston = load_boston()\n",
        "X, Y = boston.data, boston.target\n",
        "plt.hist(Y, 50)\n",
        "plt.xlabel('Median value (in $1000)')\n",
        "print (boston.DESCR)"
      ],
      "execution_count": null,
      "outputs": [
        {
          "output_type": "stream",
          "text": [
            ".. _boston_dataset:\n",
            "\n",
            "Boston house prices dataset\n",
            "---------------------------\n",
            "\n",
            "**Data Set Characteristics:**  \n",
            "\n",
            "    :Number of Instances: 506 \n",
            "\n",
            "    :Number of Attributes: 13 numeric/categorical predictive. Median Value (attribute 14) is usually the target.\n",
            "\n",
            "    :Attribute Information (in order):\n",
            "        - CRIM     per capita crime rate by town\n",
            "        - ZN       proportion of residential land zoned for lots over 25,000 sq.ft.\n",
            "        - INDUS    proportion of non-retail business acres per town\n",
            "        - CHAS     Charles River dummy variable (= 1 if tract bounds river; 0 otherwise)\n",
            "        - NOX      nitric oxides concentration (parts per 10 million)\n",
            "        - RM       average number of rooms per dwelling\n",
            "        - AGE      proportion of owner-occupied units built prior to 1940\n",
            "        - DIS      weighted distances to five Boston employment centres\n",
            "        - RAD      index of accessibility to radial highways\n",
            "        - TAX      full-value property-tax rate per $10,000\n",
            "        - PTRATIO  pupil-teacher ratio by town\n",
            "        - B        1000(Bk - 0.63)^2 where Bk is the proportion of blacks by town\n",
            "        - LSTAT    % lower status of the population\n",
            "        - MEDV     Median value of owner-occupied homes in $1000's\n",
            "\n",
            "    :Missing Attribute Values: None\n",
            "\n",
            "    :Creator: Harrison, D. and Rubinfeld, D.L.\n",
            "\n",
            "This is a copy of UCI ML housing dataset.\n",
            "https://archive.ics.uci.edu/ml/machine-learning-databases/housing/\n",
            "\n",
            "\n",
            "This dataset was taken from the StatLib library which is maintained at Carnegie Mellon University.\n",
            "\n",
            "The Boston house-price data of Harrison, D. and Rubinfeld, D.L. 'Hedonic\n",
            "prices and the demand for clean air', J. Environ. Economics & Management,\n",
            "vol.5, 81-102, 1978.   Used in Belsley, Kuh & Welsch, 'Regression diagnostics\n",
            "...', Wiley, 1980.   N.B. Various transformations are used in the table on\n",
            "pages 244-261 of the latter.\n",
            "\n",
            "The Boston house-price data has been used in many machine learning papers that address regression\n",
            "problems.   \n",
            "     \n",
            ".. topic:: References\n",
            "\n",
            "   - Belsley, Kuh & Welsch, 'Regression diagnostics: Identifying Influential Data and Sources of Collinearity', Wiley, 1980. 244-261.\n",
            "   - Quinlan,R. (1993). Combining Instance-Based and Model-Based Learning. In Proceedings on the Tenth International Conference of Machine Learning, 236-243, University of Massachusetts, Amherst. Morgan Kaufmann.\n",
            "\n"
          ],
          "name": "stdout"
        },
        {
          "output_type": "display_data",
          "data": {
            "image/png": "[encoded data removed]",
            "text/plain": [
              "<Figure size 432x288 with 1 Axes>"
            ]
          },
          "metadata": {
            "tags": []
          }
        }
      ]
    },
    {
      "cell_type": "code",
      "metadata": {
        "id": "FRLwaih9ZlS9",
        "colab_type": "code",
        "colab": {}
      },
      "source": [
        "\n",
        "# Shuffle the data, but make sure that the features and accompanying labels stay in sync.\n",
        "np.random.seed(0)\n",
        "shuffle = np.random.permutation(np.arange(X.shape[0]))\n",
        "X, Y = X[shuffle], Y[shuffle]\n",
        "\n",
        "# Split into train and test.\n",
        "train_data, train_labels = X[:350], Y[:350]\n",
        "test_data, test_labels = X[350:], Y[350:]"
      ],
      "execution_count": null,
      "outputs": []
    },
    {
      "cell_type": "markdown",
      "metadata": {
        "id": "Lez18-LUZtB4",
        "colab_type": "text"
      },
      "source": [
        "Before we start making any predictions, let's get some intuition about the data by examining the correlations. Seaborn makes it easy to visualize a correlation matrix. Note, for example, that value and crime rate are negatively correlated: districts with lower crime rates tend to be higher valued."
      ]
    },
    {
      "cell_type": "code",
      "metadata": {
        "id": "iX_4rW_YZoF_",
        "colab_type": "code",
        "colab": {
          "base_uri": "https://localhost:8080/",
          "height": 657
        },
        "outputId": "0e3515bc-ee83-4f81-88a3-e3c6ad499940"
      },
      "source": [
        "# Combine all the variables (features and target) into a single matrix so we can easily compute all the correlations.\n",
        "# Is there a better way to do this??\n",
        "train_labels_as_matrix = np.array([train_labels]).T\n",
        "all_data = np.hstack((train_data, train_labels_as_matrix))\n",
        "all_labels = np.append(boston.feature_names, 'VALUE')\n",
        "\n",
        "corr = pandas.DataFrame(all_data).corr()\n",
        "# Generate a mask for the upper triangle\n",
        "mask = np.zeros_like(corr, dtype=np.bool)\n",
        "mask[np.triu_indices_from(mask)] = True\n",
        "\n",
        "# Use seaborn to create a pretty correlation heatmap.\n",
        "fig, ax = plt.subplots(figsize=(9, 9))\n",
        "cmap = sns.diverging_palette(220, 10, as_cmap=True)\n",
        "sns.heatmap(corr, mask=mask, cmap=cmap, ax=ax,  square=True)\n",
        "fig.tight_layout()"
      ],
      "execution_count": null,
      "outputs": [
        {
          "output_type": "display_data",
          "data": {
            "image/png": "[encoded data removed]",
            "text/plain": [
              "<Figure size 648x648 with 2 Axes>"
            ]
          },
          "metadata": {
            "tags": []
          }
        }
      ]
    },
    {
      "cell_type": "code",
      "metadata": {
        "id": "YL0I1MNbNhBc",
        "colab_type": "code",
        "colab": {
          "base_uri": "https://localhost:8080/",
          "height": 297
        },
        "outputId": "fe4af645-da90-447b-9e52-724409a5e0d7"
      },
      "source": [
        "dataset = load_boston()\n",
        "boston_df = pd.DataFrame(dataset.data, columns=dataset.feature_names)\n",
        "boston_df['MEDV'] = dataset.target\n",
        "sns.heatmap(data=boston_df.corr().round(2), cmap='coolwarm')\n",
        "plt.tight_layout()\n",
        "plt.show()"
      ],
      "execution_count": null,
      "outputs": [
        {
          "output_type": "display_data",
          "data": {
            "image/png": "[encoded data removed]",
            "text/plain": [
              "<Figure size 432x288 with 2 Axes>"
            ]
          },
          "metadata": {
            "tags": []
          }
        }
      ]
    },
    {
      "cell_type": "markdown",
      "metadata": {
        "id": "O8sHeD7pZxsu",
        "colab_type": "text"
      },
      "source": [
        "\n",
        "Ok. Let's implement gradient descent. It's more efficient to implement it with vector calculations, though this may be a bit more difficult to understand at first glance. Try to think through each step and make sure you understand how it works."
      ]
    },
    {
      "cell_type": "markdown",
      "metadata": {
        "id": "bUm3uucUYppe",
        "colab_type": "text"
      },
      "source": [
        "## One step of gradient descent"
      ]
    },
    {
      "cell_type": "code",
      "metadata": {
        "id": "rQ25zRU4UXwG",
        "colab_type": "code",
        "colab": {
          "base_uri": "https://localhost:8080/",
          "height": 34
        },
        "outputId": "b31852c7-b31a-4eac-8227-9209ae7db33b"
      },
      "source": [
        "print(train_data.shape, train_data[:,0:1].shape)"
      ],
      "execution_count": null,
      "outputs": [
        {
          "output_type": "stream",
          "text": [
            "(350, 13) (350, 1)\n"
          ],
          "name": "stdout"
        }
      ]
    },
    {
      "cell_type": "code",
      "metadata": {
        "id": "kZhPtiTnVqaj",
        "colab_type": "code",
        "colab": {
          "base_uri": "https://localhost:8080/",
          "height": 102
        },
        "outputId": "2db1e231-929e-4399-c4e5-52d48c8ea693"
      },
      "source": [
        "subset, subset_target = train_data[:,0:1], train_labels\n",
        "eta = 0.0001\n",
        "subset[:5]"
      ],
      "execution_count": null,
      "outputs": [
        {
          "output_type": "execute_result",
          "data": {
            "text/plain": [
              "array([[ 0.0672],\n",
              "       [ 9.2323],\n",
              "       [ 0.1143],\n",
              "       [24.8017],\n",
              "       [ 0.0565]])"
            ]
          },
          "metadata": {
            "tags": []
          },
          "execution_count": 80
        }
      ]
    },
    {
      "cell_type": "code",
      "metadata": {
        "id": "xtZG3wLoVlJE",
        "colab_type": "code",
        "colab": {
          "base_uri": "https://localhost:8080/",
          "height": 34
        },
        "outputId": "bb53b393-7e36-4efe-90fb-25f286ba6699"
      },
      "source": [
        "X = np.c_[np.ones(subset.shape[0]), subset]\n",
        "X.shape"
      ],
      "execution_count": null,
      "outputs": [
        {
          "output_type": "execute_result",
          "data": {
            "text/plain": [
              "(350, 2)"
            ]
          },
          "metadata": {
            "tags": []
          },
          "execution_count": 81
        }
      ]
    },
    {
      "cell_type": "code",
      "metadata": {
        "id": "xyWmA3yHVzcK",
        "colab_type": "code",
        "colab": {
          "base_uri": "https://localhost:8080/",
          "height": 102
        },
        "outputId": "692f26ba-fb5c-4535-bbb2-977236d2865f"
      },
      "source": [
        "X[:5]"
      ],
      "execution_count": null,
      "outputs": [
        {
          "output_type": "execute_result",
          "data": {
            "text/plain": [
              "array([[ 1.    ,  0.0672],\n",
              "       [ 1.    ,  9.2323],\n",
              "       [ 1.    ,  0.1143],\n",
              "       [ 1.    , 24.8017],\n",
              "       [ 1.    ,  0.0565]])"
            ]
          },
          "metadata": {
            "tags": []
          },
          "execution_count": 82
        }
      ]
    },
    {
      "cell_type": "code",
      "metadata": {
        "id": "dkHK3_vQV_3n",
        "colab_type": "code",
        "colab": {
          "base_uri": "https://localhost:8080/",
          "height": 34
        },
        "outputId": "7671ad81-68fd-4696-d13b-7956365c8d01"
      },
      "source": [
        "m, k = X.shape\n",
        "m, k"
      ],
      "execution_count": null,
      "outputs": [
        {
          "output_type": "execute_result",
          "data": {
            "text/plain": [
              "(350, 2)"
            ]
          },
          "metadata": {
            "tags": []
          },
          "execution_count": 83
        }
      ]
    },
    {
      "cell_type": "code",
      "metadata": {
        "id": "GuFDG46GWDNx",
        "colab_type": "code",
        "colab": {
          "base_uri": "https://localhost:8080/",
          "height": 34
        },
        "outputId": "22a84371-cf4d-4ec0-8a99-0b87179e638c"
      },
      "source": [
        "theta = np.ones(k)\n",
        "theta"
      ],
      "execution_count": null,
      "outputs": [
        {
          "output_type": "execute_result",
          "data": {
            "text/plain": [
              "array([1., 1.])"
            ]
          },
          "metadata": {
            "tags": []
          },
          "execution_count": 84
        }
      ]
    },
    {
      "cell_type": "code",
      "metadata": {
        "id": "S6kU1-NqWldU",
        "colab_type": "code",
        "colab": {}
      },
      "source": [
        "costs = []"
      ],
      "execution_count": null,
      "outputs": []
    },
    {
      "cell_type": "code",
      "metadata": {
        "id": "ujrCPukNWnRw",
        "colab_type": "code",
        "colab": {
          "base_uri": "https://localhost:8080/",
          "height": 34
        },
        "outputId": "6786c920-33a1-4fbd-cc69-0406ba6c7944"
      },
      "source": [
        "hypothesis = np.dot(X, theta)\n",
        "hypothesis.shape"
      ],
      "execution_count": null,
      "outputs": [
        {
          "output_type": "execute_result",
          "data": {
            "text/plain": [
              "(350,)"
            ]
          },
          "metadata": {
            "tags": []
          },
          "execution_count": 86
        }
      ]
    },
    {
      "cell_type": "code",
      "metadata": {
        "id": "sEBtg2OZWs7j",
        "colab_type": "code",
        "colab": {
          "base_uri": "https://localhost:8080/",
          "height": 34
        },
        "outputId": "7162473e-ae6b-4bc0-dc5f-404caebe8fb8"
      },
      "source": [
        "hypothesis[:5]"
      ],
      "execution_count": null,
      "outputs": [
        {
          "output_type": "execute_result",
          "data": {
            "text/plain": [
              "array([ 1.0672, 10.2323,  1.1142, 25.8017,  1.0565])"
            ]
          },
          "metadata": {
            "tags": []
          },
          "execution_count": 87
        }
      ]
    },
    {
      "cell_type": "code",
      "metadata": {
        "id": "p6I1Z6ZWW0lp",
        "colab_type": "code",
        "colab": {
          "base_uri": "https://localhost:8080/",
          "height": 34
        },
        "outputId": "cbeefc7f-7634-4bac-f971-7d985286f90d"
      },
      "source": [
        "error = hypothesis - subset_target\n",
        "error[:5]"
      ],
      "execution_count": null,
      "outputs": [
        {
          "output_type": "execute_result",
          "data": {
            "text/plain": [
              "array([-21.5328, -39.7677, -21.8858,  17.5017, -20.1435])"
            ]
          },
          "metadata": {
            "tags": []
          },
          "execution_count": 88
        }
      ]
    },
    {
      "cell_type": "code",
      "metadata": {
        "id": "6yzkaqJvXghT",
        "colab_type": "code",
        "colab": {
          "base_uri": "https://localhost:8080/",
          "height": 34
        },
        "outputId": "61f20ef9-8ed8-4d02-d31a-6442eff712e0"
      },
      "source": [
        "cost = np.sum(error ** 2) / (2 * m)\n",
        "cost"
      ],
      "execution_count": null,
      "outputs": [
        {
          "output_type": "execute_result",
          "data": {
            "text/plain": [
              "269.23423293213284"
            ]
          },
          "metadata": {
            "tags": []
          },
          "execution_count": 89
        }
      ]
    },
    {
      "cell_type": "code",
      "metadata": {
        "id": "TNrWIv7qXssM",
        "colab_type": "code",
        "colab": {
          "base_uri": "https://localhost:8080/",
          "height": 1000
        },
        "outputId": "01f35b55-1bfd-461f-a6ce-58eff1ac74c0"
      },
      "source": [
        "X.T[:5]"
      ],
      "execution_count": null,
      "outputs": [
        {
          "output_type": "execute_result",
          "data": {
            "text/plain": [
              "array([[ 1.    ,  1.    ,  1.    ,  1.    ,  1.    ,  1.    ,  1.    ,\n",
              "         1.    ,  1.    ,  1.    ,  1.    ,  1.    ,  1.    ,  1.    ,\n",
              "         1.    ,  1.    ,  1.    ,  1.    ,  1.    ,  1.    ,  1.    ,\n",
              "         1.    ,  1.    ,  1.    ,  1.    ,  1.    ,  1.    ,  1.    ,\n",
              "         1.    ,  1.    ,  1.    ,  1.    ,  1.    ,  1.    ,  1.    ,\n",
              "         1.    ,  1.    ,  1.    ,  1.    ,  1.    ,  1.    ,  1.    ,\n",
              "         1.    ,  1.    ,  1.    ,  1.    ,  1.    ,  1.    ,  1.    ,\n",
              "         1.    ,  1.    ,  1.    ,  1.    ,  1.    ,  1.    ,  1.    ,\n",
              "         1.    ,  1.    ,  1.    ,  1.    ,  1.    ,  1.    ,  1.    ,\n",
              "         1.    ,  1.    ,  1.    ,  1.    ,  1.    ,  1.    ,  1.    ,\n",
              "         1.    ,  1.    ,  1.    ,  1.    ,  1.    ,  1.    ,  1.    ,\n",
              "         1.    ,  1.    ,  1.    ,  1.    ,  1.    ,  1.    ,  1.    ,\n",
              "         1.    ,  1.    ,  1.    ,  1.    ,  1.    ,  1.    ,  1.    ,\n",
              "         1.    ,  1.    ,  1.    ,  1.    ,  1.    ,  1.    ,  1.    ,\n",
              "         1.    ,  1.    ,  1.    ,  1.    ,  1.    ,  1.    ,  1.    ,\n",
              "         1.    ,  1.    ,  1.    ,  1.    ,  1.    ,  1.    ,  1.    ,\n",
              "         1.    ,  1.    ,  1.    ,  1.    ,  1.    ,  1.    ,  1.    ,\n",
              "         1.    ,  1.    ,  1.    ,  1.    ,  1.    ,  1.    ,  1.    ,\n",
              "         1.    ,  1.    ,  1.    ,  1.    ,  1.    ,  1.    ,  1.    ,\n",
              "         1.    ,  1.    ,  1.    ,  1.    ,  1.    ,  1.    ,  1.    ,\n",
              "         1.    ,  1.    ,  1.    ,  1.    ,  1.    ,  1.    ,  1.    ,\n",
              "         1.    ,  1.    ,  1.    ,  1.    ,  1.    ,  1.    ,  1.    ,\n",
              "         1.    ,  1.    ,  1.    ,  1.    ,  1.    ,  1.    ,  1.    ,\n",
              "         1.    ,  1.    ,  1.    ,  1.    ,  1.    ,  1.    ,  1.    ,\n",
              "         1.    ,  1.    ,  1.    ,  1.    ,  1.    ,  1.    ,  1.    ,\n",
              "         1.    ,  1.    ,  1.    ,  1.    ,  1.    ,  1.    ,  1.    ,\n",
              "         1.    ,  1.    ,  1.    ,  1.    ,  1.    ,  1.    ,  1.    ,\n",
              "         1.    ,  1.    ,  1.    ,  1.    ,  1.    ,  1.    ,  1.    ,\n",
              "         1.    ,  1.    ,  1.    ,  1.    ,  1.    ,  1.    ,  1.    ,\n",
              "         1.    ,  1.    ,  1.    ,  1.    ,  1.    ,  1.    ,  1.    ,\n",
              "         1.    ,  1.    ,  1.    ,  1.    ,  1.    ,  1.    ,  1.    ,\n",
              "         1.    ,  1.    ,  1.    ,  1.    ,  1.    ,  1.    ,  1.    ,\n",
              "         1.    ,  1.    ,  1.    ,  1.    ,  1.    ,  1.    ,  1.    ,\n",
              "         1.    ,  1.    ,  1.    ,  1.    ,  1.    ,  1.    ,  1.    ,\n",
              "         1.    ,  1.    ,  1.    ,  1.    ,  1.    ,  1.    ,  1.    ,\n",
              "         1.    ,  1.    ,  1.    ,  1.    ,  1.    ,  1.    ,  1.    ,\n",
              "         1.    ,  1.    ,  1.    ,  1.    ,  1.    ,  1.    ,  1.    ,\n",
              "         1.    ,  1.    ,  1.    ,  1.    ,  1.    ,  1.    ,  1.    ,\n",
              "         1.    ,  1.    ,  1.    ,  1.    ,  1.    ,  1.    ,  1.    ,\n",
              "         1.    ,  1.    ,  1.    ,  1.    ,  1.    ,  1.    ,  1.    ,\n",
              "         1.    ,  1.    ,  1.    ,  1.    ,  1.    ,  1.    ,  1.    ,\n",
              "         1.    ,  1.    ,  1.    ,  1.    ,  1.    ,  1.    ,  1.    ,\n",
              "         1.    ,  1.    ,  1.    ,  1.    ,  1.    ,  1.    ,  1.    ,\n",
              "         1.    ,  1.    ,  1.    ,  1.    ,  1.    ,  1.    ,  1.    ,\n",
              "         1.    ,  1.    ,  1.    ,  1.    ,  1.    ,  1.    ,  1.    ,\n",
              "         1.    ,  1.    ,  1.    ,  1.    ,  1.    ,  1.    ,  1.    ,\n",
              "         1.    ,  1.    ,  1.    ,  1.    ,  1.    ,  1.    ,  1.    ,\n",
              "         1.    ,  1.    ,  1.    ,  1.    ,  1.    ,  1.    ,  1.    ,\n",
              "         1.    ,  1.    ,  1.    ,  1.    ,  1.    ,  1.    ,  1.    ,\n",
              "         1.    ,  1.    ,  1.    ,  1.    ,  1.    ,  1.    ,  1.    ],\n",
              "       [ 0.0672,  9.2323,  0.1143, 24.8017,  0.0565,  0.6274,  4.8357,\n",
              "         0.0615,  2.6355,  0.2288, 73.5341, 14.0507,  6.2881, 24.3938,\n",
              "         1.8338,  0.0556,  5.824 ,  0.0401,  0.0666,  0.0801,  0.1676,\n",
              "         2.3139,  0.1312,  0.0798,  0.1714, 13.5222,  0.852 ,  2.1492,\n",
              "         0.1208,  0.2221, 10.233 ,  6.8012,  0.1966,  0.1061,  0.0918,\n",
              "         4.2224, 25.0461,  8.2673,  8.4921,  6.3931,  0.0827,  0.1884,\n",
              "         0.0454,  8.0558,  0.025 ,  0.0273,  0.141 ,  1.4139,  2.7797,\n",
              "         0.1487,  3.535 ,  0.179 ,  0.537 ,  0.3689,  0.9762,  0.0938,\n",
              "         0.0502,  0.0616, 51.1358,  0.1745,  0.0724,  0.4755,  0.1   ,\n",
              "         0.4418, 13.0751,  0.1258,  5.4411,  0.2249, 14.4383,  0.1364,\n",
              "         0.1015,  0.0951,  0.0358,  0.0305,  5.7082, 22.5971,  0.3315,\n",
              "         0.2297,  0.0468,  0.2684,  0.0925,  0.3523, 11.9511,  0.3153,\n",
              "         0.5269,  0.3035,  0.115 , 12.2472,  1.425 ,  5.2931,  0.0136,\n",
              "        11.1604,  0.0482,  0.0442,  0.0474,  0.3398, 18.4982,  0.0205,\n",
              "         4.7524,  0.1493,  0.1405,  0.128 ,  0.3581,  0.1588,  0.1133,\n",
              "         0.0883, 25.9406,  3.697 ,  0.0453,  0.0927,  1.2236,  7.4039,\n",
              "         0.1446,  0.1306,  0.2112,  0.1359, 13.6781,  0.59  , 11.5779,\n",
              "         0.015 ,  0.0691,  7.9925,  0.2198,  0.2391,  0.3494,  0.0985,\n",
              "         0.075 ,  0.1913,  0.1033,  0.1047,  8.7167, 10.8342,  0.1057,\n",
              "         1.2074, 11.8123,  0.0131,  0.3305,  3.3211,  0.1907, 18.0846,\n",
              "        23.6482,  0.2796,  0.0578,  0.0536,  0.079 ,  0.6719,  0.0178,\n",
              "         0.0691,  7.3671, 16.8118,  0.493 ,  0.0299,  1.6286,  0.1146,\n",
              "         0.5578,  0.0647,  0.093 ,  1.2325,  0.1355,  1.2518, 15.1772,\n",
              "         0.638 ,  0.037 ,  0.463 ,  0.0195,  0.241 ,  0.3511,  0.0446,\n",
              "         4.5419, 13.3598,  0.0144, 15.0234,  3.6931,  1.2735,  2.3786,\n",
              "        17.8667,  0.1778,  0.2896,  4.6469,  0.0434,  7.7522, 37.6619,\n",
              "         0.0343,  2.2424,  0.1712,  0.1919,  0.1265,  0.015 ,  0.056 ,\n",
              "         5.5811, 10.6718,  0.8253,  0.053 ,  0.2536,  0.5405,  0.0288,\n",
              "         0.0354,  3.1636,  0.7904,  0.0613,  0.042 ,  0.8027,  0.5341,\n",
              "         0.0377,  2.3793,  1.3428,  1.6566,  0.1403,  3.6737,  1.8003,\n",
              "         0.0573,  0.5206, 14.4208,  0.0438,  0.2617,  9.3389,  0.2909,\n",
              "         0.1143,  8.6448,  0.0273, 28.6558,  0.4077,  0.7842,  2.1551,\n",
              "         0.0355,  3.8497,  1.1308,  0.1423,  0.0824,  0.2116,  4.6688,\n",
              "         0.2694,  0.0702,  0.0822,  0.1316,  2.3004,  9.7242,  0.069 ,\n",
              "         0.5501,  0.1233,  3.4743,  0.0187,  5.8212,  0.3226,  0.0907,\n",
              "         0.0795,  0.0689,  0.3874,  0.0091,  1.6128, 18.811 ,  9.8235,\n",
              "         8.7921,  0.5753,  0.3298,  1.1517,  5.7312,  0.1227,  0.1717,\n",
              "         0.0315,  0.1621,  0.043 ,  0.1107,  0.1954,  0.0642, 12.8023,\n",
              "         1.0025,  4.5559,  0.0311,  8.2006,  0.0701,  0.9558,  4.4223,\n",
              "         0.1293,  2.4467,  0.055 ,  9.187 ,  0.2498,  0.2172,  0.1396,\n",
              "         0.043 ,  0.0621,  0.1066,  0.198 ,  9.3906,  0.0837,  0.2895,\n",
              "         0.0201,  0.4479,  0.6566,  0.0579,  0.7503,  0.0456,  0.6147,\n",
              "         0.8812,  0.1008,  2.0102, 12.0482,  9.9166,  0.0336,  0.0564,\n",
              "         3.8368,  0.0839,  0.3183,  0.402 ,  0.6298,  0.0387, 45.7461,\n",
              "         0.2244,  0.2982,  1.4634,  0.0355,  0.0608, 14.3337,  0.1079,\n",
              "         2.734 ,  1.1266,  1.0539,  0.0254,  0.2636, 20.7162,  0.5445,\n",
              "         0.5118,  0.5401,  3.6782,  0.2452,  0.0626, 67.9208,  0.1644,\n",
              "         0.0347,  6.9622,  0.7258,  0.0662,  0.0537,  0.0906,  0.3821,\n",
              "        13.9134,  0.0324,  0.0171,  0.169 ,  0.0358,  0.0197,  0.0871,\n",
              "         0.0831, 88.9762,  2.8184,  0.096 ,  0.082 ,  5.6664,  0.091 ]])"
            ]
          },
          "metadata": {
            "tags": []
          },
          "execution_count": 90
        }
      ]
    },
    {
      "cell_type": "code",
      "metadata": {
        "id": "93E9gL1wXiez",
        "colab_type": "code",
        "colab": {
          "base_uri": "https://localhost:8080/",
          "height": 34
        },
        "outputId": "ef12db85-a4e5-4459-9ce4-e9f8e1b19a9c"
      },
      "source": [
        "gradient = np.dot(X.T, error) / m\n",
        "gradient"
      ],
      "execution_count": null,
      "outputs": [
        {
          "output_type": "execute_result",
          "data": {
            "text/plain": [
              "array([-17.5104,  55.2208])"
            ]
          },
          "metadata": {
            "tags": []
          },
          "execution_count": 91
        }
      ]
    },
    {
      "cell_type": "code",
      "metadata": {
        "id": "wsPygpgUXrXi",
        "colab_type": "code",
        "colab": {
          "base_uri": "https://localhost:8080/",
          "height": 34
        },
        "outputId": "3c1969f7-7739-45f1-9470-15523fdecce1"
      },
      "source": [
        "theta = theta - eta * gradient\n",
        "theta"
      ],
      "execution_count": null,
      "outputs": [
        {
          "output_type": "execute_result",
          "data": {
            "text/plain": [
              "array([1.0018, 0.9945])"
            ]
          },
          "metadata": {
            "tags": []
          },
          "execution_count": 92
        }
      ]
    },
    {
      "cell_type": "markdown",
      "metadata": {
        "id": "C_G7IdmTZgd5",
        "colab_type": "text"
      },
      "source": [
        "## Pull it all together"
      ]
    },
    {
      "cell_type": "code",
      "metadata": {
        "id": "pvvUlE3nZui1",
        "colab_type": "code",
        "colab": {
          "base_uri": "https://localhost:8080/",
          "height": 279
        },
        "outputId": "c77f0519-75fc-42ac-f82b-d84466372b05"
      },
      "source": [
        "# eta is the learning rate; smaller values will tend to give slower but more precise convergence.\n",
        "# num_iters is the number of iterations to run.\n",
        "def gradient_descent(train_data, target_data, eta, num_iters):\n",
        "    # Add a 1 to each feature vector so we learn an intercept.\n",
        "    X = np.c_[np.ones(train_data.shape[0]), train_data]\n",
        "    \n",
        "    # m = number of samples, k = number of features\n",
        "    m, k = X.shape\n",
        "    \n",
        "    # Initially, set all the parameters to 1.\n",
        "    theta = np.ones(k)\n",
        "    \n",
        "    # Keep track of costs after each step.\n",
        "    costs = []\n",
        "    \n",
        "    for iter in range(0, num_iters):\n",
        "        # Get the current predictions for the training examples given the current estimate of theta.\n",
        "        hypothesis = np.dot(X, theta)\n",
        "        \n",
        "        # The loss is the difference between the predictions and the actual target values.\n",
        "        loss = hypothesis - target_data\n",
        "        \n",
        "        # In standard linear regression, we want to minimize the sum of squared losses.\n",
        "        cost = np.sum(loss ** 2) / (2 * m)\n",
        "        costs.append(cost)\n",
        "        \n",
        "        # Compute the gradient.\n",
        "        gradient = np.dot(X.T, loss) / m\n",
        "\n",
        "        # Update theta, scaling the gradient by the learning rate.\n",
        "        theta = theta - eta * gradient\n",
        "        \n",
        "    return theta, costs\n",
        "\n",
        "# Run gradient descent and plot the cost vs iterations.\n",
        "theta, costs = gradient_descent(train_data[:,0:1], train_labels, .01, 1000)\n",
        "plt.plot(costs)\n",
        "plt.xlabel('Iteration'), plt.ylabel('Cost')\n",
        "plt.show()"
      ],
      "execution_count": null,
      "outputs": [
        {
          "output_type": "display_data",
          "data": {
            "image/png": "[encoded data removed]",
            "text/plain": [
              "<Figure size 432x288 with 1 Axes>"
            ]
          },
          "metadata": {
            "tags": []
          }
        }
      ]
    },
    {
      "cell_type": "code",
      "metadata": {
        "id": "wemJFa_qXe_S",
        "colab_type": "code",
        "colab": {}
      },
      "source": [
        ""
      ],
      "execution_count": null,
      "outputs": []
    },
    {
      "cell_type": "code",
      "metadata": {
        "id": "f7lhlNmKZzvS",
        "colab_type": "code",
        "colab": {
          "base_uri": "https://localhost:8080/",
          "height": 357
        },
        "outputId": "82b77df6-ea8f-4858-ae35-26bc8a8c302b"
      },
      "source": [
        "train_data[:,0:1][:20]"
      ],
      "execution_count": null,
      "outputs": [
        {
          "output_type": "execute_result",
          "data": {
            "text/plain": [
              "array([[ 0.0672],\n",
              "       [ 9.2323],\n",
              "       [ 0.1143],\n",
              "       [24.8017],\n",
              "       [ 0.0565],\n",
              "       [ 0.6274],\n",
              "       [ 4.8357],\n",
              "       [ 0.0615],\n",
              "       [ 2.6355],\n",
              "       [ 0.2288],\n",
              "       [73.5341],\n",
              "       [14.0507],\n",
              "       [ 6.2881],\n",
              "       [24.3938],\n",
              "       [ 1.8338],\n",
              "       [ 0.0556],\n",
              "       [ 5.824 ],\n",
              "       [ 0.0401],\n",
              "       [ 0.0666],\n",
              "       [ 0.0801]])"
            ]
          },
          "metadata": {
            "tags": []
          },
          "execution_count": 94
        }
      ]
    },
    {
      "cell_type": "code",
      "metadata": {
        "id": "lTLFI8LmZ2k7",
        "colab_type": "code",
        "colab": {
          "base_uri": "https://localhost:8080/",
          "height": 34
        },
        "outputId": "85dd7fa1-23d4-4ef5-a342-453036b2d9ba"
      },
      "source": [
        "theta"
      ],
      "execution_count": null,
      "outputs": [
        {
          "output_type": "execute_result",
          "data": {
            "text/plain": [
              "array([23.6553, -0.3603])"
            ]
          },
          "metadata": {
            "tags": []
          },
          "execution_count": 95
        }
      ]
    },
    {
      "cell_type": "markdown",
      "metadata": {
        "id": "lPi90SIbZ-LT",
        "colab_type": "text"
      },
      "source": [
        "Let's compare our results to sklearn's regression as well as the algebraic solution to \"ordinary least squares\". Try increasing the number of iterations above to see whether we get closer."
      ]
    },
    {
      "cell_type": "code",
      "metadata": {
        "id": "cbT2LenzZ5tm",
        "colab_type": "code",
        "colab": {
          "base_uri": "https://localhost:8080/",
          "height": 68
        },
        "outputId": "27e2e4c6-8914-45f2-967d-0f4633813255"
      },
      "source": [
        "def OLS(X, Y):\n",
        "    # Add the intercept.\n",
        "    X = np.c_[np.ones(X.shape[0]), X]\n",
        "    \n",
        "    # We use np.linalg.inv() to compute a matrix inverse.\n",
        "    return np.dot(inv(np.dot(X.T, X)), np.dot(X.T, Y))\n",
        "\n",
        "ols_solution = OLS(train_data[:,0:1], train_labels)\n",
        "\n",
        "lr = LinearRegression(fit_intercept=True)\n",
        "lr.fit(train_data[:,0:1], train_labels)\n",
        "\n",
        "print ('Our estimated theta:     %.4f + %.4f*CRIM' %(theta[0], theta[1]))\n",
        "print ('OLS estimated theta:     %.4f + %.4f*CRIM' %(ols_solution[0], ols_solution[1]))\n",
        "print ('sklearn estimated theta: %.4f + %.4f*CRIM' %(lr.intercept_, lr.coef_[0]))"
      ],
      "execution_count": null,
      "outputs": [
        {
          "output_type": "stream",
          "text": [
            "Our estimated theta:     23.6553 + -0.3603*CRIM\n",
            "OLS estimated theta:     23.6593 + -0.3604*CRIM\n",
            "sklearn estimated theta: 23.6593 + -0.3604*CRIM\n"
          ],
          "name": "stdout"
        }
      ]
    },
    {
      "cell_type": "markdown",
      "metadata": {
        "id": "_rA3mC5JaBPx",
        "colab_type": "text"
      },
      "source": [
        "\n",
        "Ok, let's try fitting a model that uses more of the variables. Let's run just a few iterations and check the cost function."
      ]
    },
    {
      "cell_type": "code",
      "metadata": {
        "id": "-GfBGbkAZ8bW",
        "colab_type": "code",
        "colab": {
          "base_uri": "https://localhost:8080/",
          "height": 330
        },
        "outputId": "024e2266-b902-4a82-d209-e8e55839aa4a"
      },
      "source": [
        "\n",
        "num_feats = 5\n",
        "theta, costs = gradient_descent(train_data[:,0:num_feats], train_labels, .01, 500)\n",
        "plt.plot(np.log(costs))\n",
        "plt.xlabel('Iteration'), plt.ylabel('Log Cost')\n",
        "plt.show()"
      ],
      "execution_count": null,
      "outputs": [
        {
          "output_type": "stream",
          "text": [
            "/usr/local/lib/python3.6/dist-packages/ipykernel_launcher.py:22: RuntimeWarning: overflow encountered in square\n",
            "/usr/local/lib/python3.6/dist-packages/numpy/core/fromnumeric.py:90: RuntimeWarning: overflow encountered in reduce\n",
            "  return ufunc.reduce(obj, axis, dtype, out, **passkwargs)\n"
          ],
          "name": "stderr"
        },
        {
          "output_type": "display_data",
          "data": {
            "image/png": "[encoded data removed]",
            "text/plain": [
              "<Figure size 432x288 with 1 Axes>"
            ]
          },
          "metadata": {
            "tags": []
          }
        }
      ]
    },
    {
      "cell_type": "markdown",
      "metadata": {
        "id": "Td78XThhaEzL",
        "colab_type": "text"
      },
      "source": [
        "\n",
        "The cost is increasing and fast! This can happen when the learning rate is too large. The updated parameters skip over the optimum and the cost ends up larger than it was before. Let's reduce the learning rate and try again."
      ]
    },
    {
      "cell_type": "code",
      "metadata": {
        "id": "kJP1WhqAaGpH",
        "colab_type": "code",
        "colab": {
          "base_uri": "https://localhost:8080/",
          "height": 330
        },
        "outputId": "1d1ca127-2060-4389-f86e-9cd4efb053f4"
      },
      "source": [
        "start_time = time.time()\n",
        "theta, costs = gradient_descent(train_data[:,0:num_feats], train_labels, .001, 100000)\n",
        "train_time = time.time() - start_time\n",
        "plt.plot(np.log(costs))\n",
        "plt.xlabel('Iteration'), plt.ylabel('Log Cost')\n",
        "plt.show()\n",
        "\n",
        "print ('Training time: %.2f secs' %train_time)\n",
        "print ('Our estimated theta:', theta)\n",
        "print ('OLS estimated theta:', OLS(train_data[:,0:num_feats], train_labels))"
      ],
      "execution_count": null,
      "outputs": [
        {
          "output_type": "display_data",
          "data": {
            "image/png": "[encoded data removed]",
            "text/plain": [
              "<Figure size 432x288 with 1 Axes>"
            ]
          },
          "metadata": {
            "tags": []
          }
        },
        {
          "output_type": "stream",
          "text": [
            "Training time: 2.12 secs\n",
            "Our estimated theta: [26.06   -0.2171  0.0346 -0.4726  4.8816  2.9027]\n",
            "OLS estimated theta: [ 32.5074  -0.195    0.0219  -0.3208   5.4071 -11.7312]\n"
          ],
          "name": "stdout"
        }
      ]
    },
    {
      "cell_type": "markdown",
      "metadata": {
        "id": "2T4eeZRxaMNN",
        "colab_type": "text"
      },
      "source": [
        "\n",
        "This is getting pretty slow, and it looks like it hasn't yet converged (see the last value of theta, especially). The scale of the parameters can also make convergence difficult. Let's examine the distributions of the features we're using."
      ]
    },
    {
      "cell_type": "code",
      "metadata": {
        "id": "mpBhx8jXaIck",
        "colab_type": "code",
        "colab": {
          "base_uri": "https://localhost:8080/",
          "height": 227
        },
        "outputId": "5a0133a9-163a-432a-c7cf-1c7c040a98a4"
      },
      "source": [
        "plt.figure(figsize=(15, 3))\n",
        "for feature in range(num_feats):\n",
        "    plt.subplot(1, num_feats, feature+1)\n",
        "    plt.hist(train_data[:,feature])\n",
        "    plt.title(boston.feature_names[feature])"
      ],
      "execution_count": null,
      "outputs": [
        {
          "output_type": "display_data",
          "data": {
            "image/png": "[encoded data removed]",
            "text/plain": [
              "<Figure size 1080x216 with 5 Axes>"
            ]
          },
          "metadata": {
            "tags": []
          }
        }
      ]
    },
    {
      "cell_type": "markdown",
      "metadata": {
        "id": "nPWVtTkJaSGt",
        "colab_type": "text"
      },
      "source": [
        "\n",
        "Clearly, the distribution of the feature values varies a great deal. Let's apply the standard scaler -- subtract the mean, divide by the standard deviation -- for each feature. This is built in as a preprocessor in sklearn. We run the fit() function on the training data and then apply the transformation to both train and test data. We don't fit on the test data because this would be cheating -- we shouldn't know in advance the mean and variance of the feature values in the test data, so we assume they are the same as the training data."
      ]
    },
    {
      "cell_type": "code",
      "metadata": {
        "id": "3EKdjmOnaN60",
        "colab_type": "code",
        "colab": {
          "base_uri": "https://localhost:8080/",
          "height": 227
        },
        "outputId": "e0f0a80d-a7f6-45b5-fecd-895ecfdeb134"
      },
      "source": [
        "scaler = preprocessing.StandardScaler()\n",
        "scaler.fit(train_data)\n",
        "scaled_train_data = scaler.transform(train_data)\n",
        "scaled_test_data = scaler.transform(test_data)\n",
        "\n",
        "plt.figure(figsize=(15, 3))\n",
        "\n",
        "for feature in range(5):\n",
        "    plt.subplot(1, 5, feature+1)\n",
        "    plt.hist(scaled_train_data[:,feature])\n",
        "    plt.title(boston.feature_names[feature])"
      ],
      "execution_count": null,
      "outputs": [
        {
          "output_type": "display_data",
          "data": {
            "image/png": "[encoded data removed]",
            "text/plain": [
              "<Figure size 1080x216 with 5 Axes>"
            ]
          },
          "metadata": {
            "tags": []
          }
        }
      ]
    },
    {
      "cell_type": "markdown",
      "metadata": {
        "id": "_V8qxQWfaT_a",
        "colab_type": "text"
      },
      "source": [
        "\n",
        "Ok, let's try gradient descent again. We can increase the learning rate and decrease the number of iterations."
      ]
    },
    {
      "cell_type": "code",
      "metadata": {
        "id": "0KGBwMbDaWym",
        "colab_type": "code",
        "colab": {
          "base_uri": "https://localhost:8080/",
          "height": 330
        },
        "outputId": "b00a7784-7091-4669-d4f1-f8b92ec0476b"
      },
      "source": [
        "\n",
        "start_time = time.time()\n",
        "theta, costs = gradient_descent(scaled_train_data[:,0:5], train_labels, .01, 5000)\n",
        "train_time = time.time() - start_time\n",
        "plt.plot(np.log(costs))\n",
        "plt.xlabel('Iteration'), plt.ylabel('Log Cost')\n",
        "plt.show()\n",
        "\n",
        "print ('Training time: %.2f secs' %train_time)\n",
        "print ('Our estimated theta:', theta)\n",
        "print ('OLS estimated theta:', OLS(scaled_train_data[:,0:5], train_labels))"
      ],
      "execution_count": null,
      "outputs": [
        {
          "output_type": "display_data",
          "data": {
            "image/png": "[encoded data removed]",
            "text/plain": [
              "<Figure size 432x288 with 1 Axes>"
            ]
          },
          "metadata": {
            "tags": []
          }
        },
        {
          "output_type": "stream",
          "text": [
            "Training time: 0.13 secs\n",
            "Our estimated theta: [22.2951 -1.8426  0.5068 -2.1261  1.3926 -1.3554]\n",
            "OLS estimated theta: [22.2951 -1.8426  0.5068 -2.1261  1.3926 -1.3554]\n"
          ],
          "name": "stdout"
        }
      ]
    },
    {
      "cell_type": "markdown",
      "metadata": {
        "id": "tUZIasXtaYCc",
        "colab_type": "text"
      },
      "source": [
        "Why do we even bother with gradient descent when the closed form solution works just fine?\n",
        "\n",
        "There are many answers. First, gradient descent is a general-purpose tool; we are applying it to the least squares problem which happens to have a closed form solution, but most other machine learning objectives do not have this luxury.\n",
        "\n",
        "Also, if we want to add regularization, we can no longer use the algebraic formula.\n",
        "\n",
        "Here's one more reason: You can't take the inverse of a singular matrix. That is, if two of our features are co-linear, the inverse function will fail. Gradient descent doesn't have this problem and should learn instead to share the weight appropriately between the two co-linear features. Let's test this by simply adding a copy of the crime feature."
      ]
    },
    {
      "cell_type": "code",
      "metadata": {
        "id": "Fv8q4x2WaatL",
        "colab_type": "code",
        "colab": {
          "base_uri": "https://localhost:8080/",
          "height": 68
        },
        "outputId": "53ea2e7a-d11c-406a-f9f4-31a95cb5ae59"
      },
      "source": [
        "# Create an augmented training set that has 2 copies of the crime variable.\n",
        "augmented_train_data = np.c_[scaled_train_data[:,0], scaled_train_data]\n",
        "\n",
        "# Run gradient descent and OLS and compare the results.\n",
        "theta, costs = gradient_descent(augmented_train_data[:,0:6], train_labels, .01, 5000)\n",
        "print ('Our estimated theta:', theta)\n",
        "\n",
        "print ('OLS estimated theta:',)\n",
        "try: print (OLS(augmented_train_data[:,0:6], train_labels))\n",
        "except: print ('ERROR, singular matrix not invertible')"
      ],
      "execution_count": null,
      "outputs": [
        {
          "output_type": "stream",
          "text": [
            "Our estimated theta: [22.2951 -0.9213 -0.9213  0.5068 -2.1261  1.3926 -1.3554]\n",
            "OLS estimated theta:\n",
            "ERROR, singular matrix not invertible\n"
          ],
          "name": "stdout"
        }
      ]
    },
    {
      "cell_type": "markdown",
      "metadata": {
        "id": "CWaPUMXQac8J",
        "colab_type": "text"
      },
      "source": [
        "One final note about regression models. As you may know, they have become extremely common in all sorts of analysis. When all the various assumptions of the model are assumed to be true, it is tempting to interpret the estimated coefficients as causal. For example, in our 5-variable model above, we might conclude that a reduction in (standardized) per-capita crime rate of 1 would result in an increase in median value of about $18,194.\n",
        "\n",
        "Statistically, though, this conclusion is almost impossible to justify. You can see just how brittle the coefficients are in these experiments with gradient descent. Try adding a variable, for example. Or if we haven't quite found the global minimum, one coefficient can still change quite dramatically.\n",
        "\n",
        "This is why regression is much more useful for prediction than it is for understanding causal relationships. If we only care about prediction, we don't need to worry about whether the many model assumptions (like whether any meaningful variables are missing) are true. It is possible to study causation with statistical analysis, but simply running regression is not sufficient."
      ]
    }
  ]
}